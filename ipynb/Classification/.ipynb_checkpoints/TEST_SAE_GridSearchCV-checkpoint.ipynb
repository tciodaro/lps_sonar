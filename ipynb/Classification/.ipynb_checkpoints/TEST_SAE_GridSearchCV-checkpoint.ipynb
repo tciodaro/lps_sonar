{
 "cells": [
  {
   "cell_type": "code",
   "execution_count": 39,
   "metadata": {},
   "outputs": [],
   "source": [
    "import sys\n",
    "import matplotlib.pyplot as plt\n",
    "\n",
    "import numpy as np\n",
    "import time\n",
    "from sklearn import datasets\n",
    "from sklearn import preprocessing\n",
    "from sklearn import metrics\n",
    "from sklearn import model_selection\n",
    "\n",
    "\n",
    "%matplotlib inline\n",
    "\n",
    "colors = ['r','b','c','g','k','m','y']\n",
    "np.set_printoptions(3)\n",
    "\n",
    "sys.path.append('../')\n",
    "\n",
    "import Sonar.StackedAutoEncoderCV as SAE"
   ]
  },
  {
   "cell_type": "markdown",
   "metadata": {},
   "source": [
    "# Load Data"
   ]
  },
  {
   "cell_type": "code",
   "execution_count": 2,
   "metadata": {
    "collapsed": true
   },
   "outputs": [],
   "source": [
    "dataset = datasets.load_iris()\n",
    "data = dataset.data\n",
    "target = dataset.target"
   ]
  },
  {
   "cell_type": "markdown",
   "metadata": {},
   "source": [
    "## Select Novelty "
   ]
  },
  {
   "cell_type": "code",
   "execution_count": 3,
   "metadata": {
    "collapsed": true
   },
   "outputs": [],
   "source": [
    "novcls = 2\n",
    "nov_data = data[target==novcls]\n",
    "nov_target = target[target==novcls]\n",
    "#\n",
    "data   = data[target != novcls]\n",
    "target = target[target != novcls]"
   ]
  },
  {
   "cell_type": "markdown",
   "metadata": {},
   "source": [
    "## Training Indexes "
   ]
  },
  {
   "cell_type": "code",
   "execution_count": 11,
   "metadata": {
    "collapsed": true
   },
   "outputs": [],
   "source": [
    "# Test x Development\n",
    "ntrn = 0.7\n",
    "Xtrn, Xtst, Ytrn, Ytst = model_selection.train_test_split(data, target, test_size = 1.0-ntrn, stratify=target)\n",
    "\n",
    "cv_indexes = []\n",
    "kfold = model_selection.StratifiedKFold(n_splits=4, random_state=10)\n",
    "for itrn, ival in kfold.split(Xtrn, Ytrn):\n",
    "    cv_indexes.append({'itrn': itrn, 'ival': ival})"
   ]
  },
  {
   "cell_type": "markdown",
   "metadata": {},
   "source": [
    "## Dataprep"
   ]
  },
  {
   "cell_type": "code",
   "execution_count": 5,
   "metadata": {
    "collapsed": true
   },
   "outputs": [],
   "source": [
    "scaler = preprocessing.StandardScaler().fit(data[itrn])\n",
    "data = scaler.transform(data)\n",
    "nov_data = scaler.transform(nov_data)"
   ]
  },
  {
   "cell_type": "markdown",
   "metadata": {},
   "source": [
    "# Network  Configuration"
   ]
  },
  {
   "cell_type": "code",
   "execution_count": 6,
   "metadata": {
    "collapsed": true
   },
   "outputs": [],
   "source": [
    "hiddens = [Xtrn.shape[1], 10, 5, 2, 5, 10, Xtrn.shape[1]]\n",
    "optimizers = ['adam','adam','adam']\n",
    "nepochs = 500\n",
    "batch_size = 100\n",
    "ninit = 10"
   ]
  },
  {
   "cell_type": "markdown",
   "metadata": {},
   "source": [
    "# Scorers "
   ]
  },
  {
   "cell_type": "code",
   "execution_count": null,
   "metadata": {
    "collapsed": true
   },
   "outputs": [],
   "source": []
  },
  {
   "cell_type": "markdown",
   "metadata": {},
   "source": [
    "# Training (Bottleneck: 2)"
   ]
  },
  {
   "cell_type": "code",
   "execution_count": 56,
   "metadata": {},
   "outputs": [
    {
     "name": "stdout",
     "output_type": "stream",
     "text": [
      "Time:  30.7350001335\n",
      "-0.132106797223\n"
     ]
    }
   ],
   "source": [
    "t0 = time.time()\n",
    "hiddens = [Xtrn.shape[1], 10, 5, 2, 5, 10, Xtrn.shape[1]]\n",
    "model = SAE.StackedAutoEncoderCV(hiddens, optimizers, nepochs, batch_size, ninit, verbose=False)\n",
    "model.fit(Xtrn[itrn])\n",
    "print 'Time: ', time.time()-t0\n",
    "print model.score(Xtrn[ival], Xtrn[ival])"
   ]
  },
  {
   "cell_type": "markdown",
   "metadata": {},
   "source": [
    "# Training (Bottleneck: 1) "
   ]
  },
  {
   "cell_type": "code",
   "execution_count": 57,
   "metadata": {},
   "outputs": [
    {
     "name": "stdout",
     "output_type": "stream",
     "text": [
      "Time:  29.2349998951\n",
      "-0.552705918221\n"
     ]
    }
   ],
   "source": [
    "t0 = time.time()\n",
    "hiddens = [Xtrn.shape[1], 10, 5, 1, 5, 10, Xtrn.shape[1]]\n",
    "model = SAE.StackedAutoEncoderCV(hiddens, optimizers, nepochs, batch_size, ninit, verbose=False)\n",
    "model.fit(Xtrn[itrn])\n",
    "print 'Time: ', time.time()-t0\n",
    "print model.score(Xtrn[ival], Xtrn[ival])"
   ]
  },
  {
   "cell_type": "markdown",
   "metadata": {},
   "source": [
    "# Grid Search "
   ]
  },
  {
   "cell_type": "code",
   "execution_count": 37,
   "metadata": {},
   "outputs": [
    {
     "data": {
      "text/plain": [
       "<module 'Sonar.StackedAutoEncoderCV' from '../Sonar\\StackedAutoEncoderCV.py'>"
      ]
     },
     "execution_count": 37,
     "metadata": {},
     "output_type": "execute_result"
    }
   ],
   "source": [
    "reload(SAE)"
   ]
  },
  {
   "cell_type": "code",
   "execution_count": 58,
   "metadata": {
    "scrolled": false
   },
   "outputs": [
    {
     "name": "stdout",
     "output_type": "stream",
     "text": [
      "Time:  259.956999779\n",
      "-0.17692425925\n"
     ]
    }
   ],
   "source": [
    "t0 = time.time()\n",
    "param_grid = {\n",
    "    'hiddens': [[Xtrn.shape[1], 10, 5, 2, 5, 10, Xtrn.shape[1]],\n",
    "                [Xtrn.shape[1], 10, 5, 1, 5, 10, Xtrn.shape[1]]]\n",
    "}\n",
    "clf = SAE.StackedAutoEncoder([], optimizers, nepochs, batch_size, ninit, verbose=False)\n",
    "grid = model_selection.GridSearchCV(clf, param_grid=param_grid, cv=kfold, refit=False)\n",
    "grid.fit(Xtrn, Ytrn)\n",
    "# Find the best CV\n",
    "icv = -1\n",
    "best_score = -1e9\n",
    "for k,v in grid.cv_results_.items():\n",
    "    if k.find('split') != -1 and k.find('_test_') != -1:\n",
    "        if best_score < v[grid.best_index_]:\n",
    "            best_score = v[grid.best_index_]\n",
    "            icv = int(k[k.find('split')+5 : k.find('_')])\n",
    "# Get original indexes\n",
    "for i, (itrn, ival) in enumerate(kfold.split(Xtrn, Ytrn)):\n",
    "    if i == icv:\n",
    "        break\n",
    "clf.set_params(**grid.best_params_)\n",
    "clf.fit(Xtrn[itrn], Ytrn[itrn])\n",
    "print 'Time: ', time.time()-t0\n",
    "print clf.score(Xtrn[ival], Xtrn[ival])"
   ]
  },
  {
   "cell_type": "code",
   "execution_count": null,
   "metadata": {
    "collapsed": true
   },
   "outputs": [],
   "source": []
  },
  {
   "cell_type": "code",
   "execution_count": null,
   "metadata": {
    "collapsed": true
   },
   "outputs": [],
   "source": []
  },
  {
   "cell_type": "code",
   "execution_count": null,
   "metadata": {
    "collapsed": true
   },
   "outputs": [],
   "source": []
  }
 ],
 "metadata": {
  "kernelspec": {
   "display_name": "Python 2",
   "language": "python",
   "name": "python2"
  },
  "language_info": {
   "codemirror_mode": {
    "name": "ipython",
    "version": 2
   },
   "file_extension": ".py",
   "mimetype": "text/x-python",
   "name": "python",
   "nbconvert_exporter": "python",
   "pygments_lexer": "ipython2",
   "version": "2.7.13"
  }
 },
 "nbformat": 4,
 "nbformat_minor": 2
}
