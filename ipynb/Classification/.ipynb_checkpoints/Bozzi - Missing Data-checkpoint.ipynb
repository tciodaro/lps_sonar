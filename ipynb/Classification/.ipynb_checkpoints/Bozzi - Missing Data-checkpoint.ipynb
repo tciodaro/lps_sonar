{
 "cells": [
  {
   "cell_type": "code",
   "execution_count": null,
   "metadata": {
    "collapsed": true
   },
   "outputs": [],
   "source": []
  },
  {
   "cell_type": "code",
   "execution_count": 1,
   "metadata": {
    "collapsed": false
   },
   "outputs": [],
   "source": [
    "%matplotlib inline\n",
    "import numpy as np\n",
    "import matplotlib.pyplot as plt\n",
    "import os\n",
    "import pandas\n",
    "from sklearn.externals import joblib\n",
    "from sklearn import metrics\n",
    "import scipy.stats as stats\n",
    "from scipy.io import loadmat\n",
    "from scipy.io import savemat\n",
    "\n",
    "\n",
    "np.set_printoptions(precision=2, suppress=True)\n",
    "\n",
    "import matplotlib as mpl\n",
    "mpl.rcParams['lines.linewidth'] = 2\n",
    "mpl.rcParams['legend.handlelength'] = 3\n",
    "mpl.rcParams['legend.borderpad'] = 0.3\n",
    "mpl.rcParams['legend.numpoints'] = 1\n",
    "\n",
    "datadir = os.getenv('HOME') + '/Dropbox/Dados_bozzi/'\n"
   ]
  },
  {
   "cell_type": "markdown",
   "metadata": {},
   "source": [
    "# Data Loading "
   ]
  },
  {
   "cell_type": "code",
   "execution_count": 2,
   "metadata": {
    "collapsed": false
   },
   "outputs": [],
   "source": [
    "fname = datadir + '/ruido.mat'\n",
    "noise = loadmat(fname)\n",
    "noise = noise['trecho_ruido']\n",
    "\n",
    "fname = datadir + '/sinal.mat'\n",
    "signal = loadmat(fname)\n",
    "signal = signal['sinal']\n"
   ]
  },
  {
   "cell_type": "markdown",
   "metadata": {},
   "source": [
    "# Density Based Random Generator "
   ]
  },
  {
   "cell_type": "code",
   "execution_count": 3,
   "metadata": {
    "collapsed": true
   },
   "outputs": [],
   "source": [
    "def random_from_dist(xmodel, ymodel, ndata, fPlot=False, fMethod = True):\n",
    "    if fMethod:\n",
    "        bin_midpoints = xmodel + (xmodel[1] - xmodel[0])/2\n",
    "        cdf = np.cumsum(ymodel)\n",
    "        cdf = cdf / cdf[-1]\n",
    "        values = np.random.rand(ndata)\n",
    "        value_bins = np.searchsorted(cdf, values)\n",
    "        random_from_cdf = bin_midpoints[value_bins]\n",
    "    else:\n",
    "        random_from_cdf = np.random.choice(xmodel, ndata, p = ymodel/ymodel.sum())\n",
    "    if fPlot:\n",
    "        a = plt.hist(random_from_cdf, bins=xmodel, normed=True)\n",
    "        plt.plot(xmodel, ymodel * a[0].sum() / ymodel.sum())\n",
    "    return random_from_cdf"
   ]
  },
  {
   "cell_type": "markdown",
   "metadata": {},
   "source": [
    "# Noise Processing"
   ]
  },
  {
   "cell_type": "markdown",
   "metadata": {},
   "source": [
    "A analise é feita considerando toda o sinal, sem janelamento. Para cada canal, as amostras nan devem ser substituidas por amostras geradas por um gerador aleatório baseado na pdf estimada das amostras restantes."
   ]
  },
  {
   "cell_type": "code",
   "execution_count": 5,
   "metadata": {
    "collapsed": false,
    "scrolled": false
   },
   "outputs": [
    {
     "name": "stdout",
     "output_type": "stream",
     "text": [
      "====================  Channel:  1\n",
      "\t0.00337419573831\n",
      "\t0.00337658241327\n",
      "\t0.0707331507733\n",
      "====================  Channel:  2\n",
      "\t0.00350307184277\n",
      "\t0.00350195719045\n",
      "\t0.0318192824074\n",
      "====================  Channel:  3\n",
      "\t0.00351447818007\n",
      "\t0.00351421709829\n",
      "\t0.00742874954294\n",
      "====================  Channel:  4\n",
      "\t0.00366502315532\n",
      "\t0.00366734989288\n",
      "\t0.0634849348321\n",
      "====================  Channel:  5\n",
      "\t0.0037457729526\n",
      "\t0.00374619543569\n",
      "\t0.0112789293914\n",
      "====================  Channel:  6\n",
      "\t0.00389035409052\n",
      "\t0.0038914662475\n",
      "\t0.0285875515717\n",
      "====================  Channel:  7\n",
      "\t0.00394285073019\n",
      "\t0.00394014517919\n",
      "\t0.068619158521\n",
      "====================  Channel:  8\n",
      "\t0.00401480617705\n",
      "\t0.00401427078019\n",
      "\t0.0133355595194\n",
      "====================  Channel:  9\n",
      "\t0.00409719228493\n",
      "\t0.00409183932947\n",
      "\t0.130649359037\n",
      "====================  Channel:  10\n",
      "\t0.00407022564718\n",
      "\t0.00407672805414\n",
      "\t0.159755441674\n",
      "====================  Channel:  11\n",
      "\t0.0040981422761\n",
      "\t0.00410269896093\n",
      "\t0.111189034536\n",
      "====================  Channel:  12\n",
      "\t0.0041068782041\n",
      "\t0.00410323755414\n",
      "\t0.0886476244805\n",
      "====================  Channel:  13\n",
      "\t0.00400593165076\n",
      "\t0.0040087851935\n",
      "\t0.0712329362465\n",
      "====================  Channel:  14\n",
      "\t0.00389435788345\n",
      "\t0.00389679637564\n",
      "\t0.0626160272068\n",
      "====================  Channel:  15\n",
      "\t0.0038974598714\n",
      "\t0.0039021964836\n",
      "\t0.121530749534\n",
      "====================  Channel:  16\n",
      "\t0.00387864468155\n",
      "\t0.00388464955082\n",
      "\t0.154818751509\n",
      "====================  Channel:  17\n",
      "\t0.00377575840381\n",
      "\t0.00377528574149\n",
      "\t0.0125183411818\n",
      "====================  Channel:  18\n",
      "\t0.00380069702238\n",
      "\t0.00380472126539\n",
      "\t0.105881710294\n",
      "====================  Channel:  19\n",
      "\t0.00369355032507\n",
      "\t0.00370308155637\n",
      "\t0.25805066825\n",
      "====================  Channel:  20\n",
      "\t0.00368848279032\n",
      "\t0.00369124008545\n",
      "\t0.0747541818266\n",
      "====================  Channel:  21\n",
      "\t0.00358950386542\n",
      "\t0.00359040541736\n",
      "\t0.0251163384122\n",
      "====================  Channel:  22\n",
      "\t0.00341024442604\n",
      "\t0.00341275602617\n",
      "\t0.0736486837684\n",
      "====================  Channel:  23\n",
      "\t0.00339653878548\n",
      "\t0.0033982569948\n",
      "\t0.0505870661204\n",
      "====================  Channel:  24\n",
      "\t0.00327052015119\n",
      "\t0.00327832975513\n",
      "\t0.238787825205\n",
      "====================  Channel:  25\n",
      "\t0.00326708153091\n",
      "\t0.00326509133173\n",
      "\t0.0609167285456\n",
      "====================  Channel:  26\n",
      "\t0.00299499213853\n",
      "\t0.00300175984913\n",
      "\t0.225967558117\n",
      "====================  Channel:  27\n",
      "\t0.0030151592288\n",
      "\t0.00301802842878\n",
      "\t0.0951591527962\n",
      "====================  Channel:  28\n",
      "\t0.00296292499887\n",
      "\t0.0029613155614\n",
      "\t0.0543192104559\n",
      "====================  Channel:  29\n",
      "\t0.00300781806323\n",
      "\t0.00300879244399\n",
      "\t0.0323949370132\n",
      "====================  Channel:  30\n",
      "\t0.00309869976419\n",
      "\t0.00309948905265\n",
      "\t0.0254716014366\n",
      "====================  Channel:  31\n",
      "\t0.00320479473851\n",
      "\t0.00320823917114\n",
      "\t0.107477480078\n",
      "====================  Channel:  32\n",
      "\t0.0032665750607\n",
      "\t0.00326438386359\n",
      "\t0.0670793436606\n"
     ]
    },
    {
     "data": {
      "text/plain": [
       "<matplotlib.figure.Figure at 0x7f33c2416250>"
      ]
     },
     "metadata": {},
     "output_type": "display_data"
    }
   ],
   "source": [
    "new_noise = np.array(noise)\n",
    "\n",
    "Nx = 4\n",
    "Ny = int(noise.shape[1]/float(Nx)) + 1\n",
    "plt.figure(figsize=(6*Nx, 5*Ny))\n",
    "\n",
    "for ich in range(noise.shape[1]):\n",
    "    # estimate density\n",
    "    test_data = noise[:,ich]\n",
    "    idx_nan = np.isnan(test_data)\n",
    "    test_data = test_data[~idx_nan]\n",
    "    idx = np.arange(test_data.shape[0])\n",
    "    np.random.shuffle(idx)\n",
    "    test_data = test_data[idx[:int(test_data.shape[0] * 0.40)]]\n",
    "    X = np.linspace(test_data.min(),test_data.max(), 1000)\n",
    "    ymodel = stats.gaussian_kde(test_data)(X)\n",
    "    newvalues = random_from_dist(X, ymodel, idx_nan.sum(), False, False)\n",
    "    # Replace values\n",
    "    new_noise[idx_nan, ich] = newvalues\n",
    "    # Print\n",
    "    print '=='*10, ' Channel: ', ich + 1\n",
    "    print '\\t', noise[~idx_nan,ich].std()\n",
    "    print '\\t', new_noise[:,ich].std()\n",
    "    print '\\t', 100 *np.abs(noise[~idx_nan,ich].std() - new_noise[:,ich].std()) / noise[~idx_nan,ich].std() \n",
    "    \n",
    "    continue\n",
    "    \n",
    "    # Plot\n",
    "    plt.subplot(Ny, Nx, ich+1)\n",
    "    # Old data\n",
    "    test_data = noise[:,ich]\n",
    "    idx_nan = np.isnan(test_data)\n",
    "    test_data = test_data[~idx_nan]\n",
    "    X = np.linspace(test_data.min(),test_data.max(), 1000)\n",
    "    ymodel = gaussian_kde(test_data)(X)\n",
    "    plt.plot(X, ymodel/ymodel.sum(), 'r-', label='Antes')\n",
    "    # New Data\n",
    "    yapply = gaussian_kde(new_noise[:, ich])(X)\n",
    "    plt.plot(X, yapply/yapply.sum(), 'k--', label='Depois')\n",
    "    print '\\tKL: ', stats.entropy(ymodel, yapply)\n",
    "    plt.yscale('log')\n",
    "    plt.ylabel('PDF')\n",
    "    plt.xlabel('V')\n",
    "    plt.grid(True)\n",
    "    plt.title('Canal %i'%(ich+1))\n"
   ]
  },
  {
   "cell_type": "markdown",
   "metadata": {
    "collapsed": false
   },
   "source": [
    "# Signal Processing\n"
   ]
  },
  {
   "cell_type": "markdown",
   "metadata": {},
   "source": [
    "A analise eh feita para os janelamentos de 32ms, 200ms e 1s. Considerando as taxas de amostragem, essas janelas produzem variaveis aleatorias com 1000, 6250 e 31250 amostras respectivamente."
   ]
  },
  {
   "cell_type": "markdown",
   "metadata": {},
   "source": [
    "## Window: 32ms "
   ]
  },
  {
   "cell_type": "code",
   "execution_count": 4,
   "metadata": {
    "collapsed": false,
    "scrolled": false
   },
   "outputs": [],
   "source": [
    "new_32ms_signal = np.array(signal)\n",
    "\n",
    "nsamples = 1000\n",
    "\n",
    "\n",
    "std_perc = np.zeros((signal.shape[1], nsamples))\n",
    "for ich in range(signal.shape[1]):\n",
    "    # Window \n",
    "    wsignal = np.array(signal[:,ich])\n",
    "    wsignal = np.reshape(wsignal, (wsignal.shape[0]/nsamples, nsamples)).T\n",
    "    \n",
    "    # Loop over random variables\n",
    "    for ivar in range(nsamples):\n",
    "        idx_nan = np.isnan(wsignal[ivar])\n",
    "        test_data = wsignal[ivar, ~idx_nan]\n",
    "        X = np.linspace(test_data.min(),test_data.max(), 1000)\n",
    "        ymodel = stats.gaussian_kde(test_data)(X)\n",
    "        newvalues = random_from_dist(X, ymodel, idx_nan.sum(), False, False)\n",
    "        # Replace values\n",
    "        wsignal[ivar, idx_nan] = newvalues\n",
    "        # Print\n",
    "        #print '=='*10, ' Channel: ', ich + 1, '\\tVar: ', ivar+1\n",
    "        #print '\\t', wsignal[ivar, ~idx_nan].std()\n",
    "        #print '\\t', wsignal[ivar, :].std()\n",
    "        std_perc[ich, ivar] = 100 *np.abs(wsignal[ivar, ~idx_nan].std() - wsignal[ivar].std()) \\\n",
    "                                   / wsignal[ivar, ~idx_nan].std() \n",
    "        #print '\\t', std_perc[ivar]\n",
    "    new_32ms_signal[:,ich] = np.reshape(wsignal.T, (signal.shape[0],))"
   ]
  },
  {
   "cell_type": "markdown",
   "metadata": {},
   "source": [
    "## Window: 200ms"
   ]
  },
  {
   "cell_type": "code",
   "execution_count": 5,
   "metadata": {
    "collapsed": true
   },
   "outputs": [],
   "source": [
    "new_200ms_signal = np.array(signal)\n",
    "\n",
    "nsamples = 6250\n",
    "\n",
    "\n",
    "std_perc = np.zeros((signal.shape[1], nsamples))\n",
    "for ich in range(signal.shape[1]):\n",
    "    # Window \n",
    "    wsignal = np.array(signal[:,ich])\n",
    "    wsignal = np.reshape(wsignal, (wsignal.shape[0]/nsamples, nsamples)).T\n",
    "    \n",
    "    # Loop over random variables\n",
    "    for ivar in range(nsamples):\n",
    "        idx_nan = np.isnan(wsignal[ivar])\n",
    "        test_data = wsignal[ivar, ~idx_nan]\n",
    "        X = np.linspace(test_data.min(),test_data.max(), 1000)\n",
    "        ymodel = stats.gaussian_kde(test_data)(X)\n",
    "        newvalues = random_from_dist(X, ymodel, idx_nan.sum(), False, False)\n",
    "        # Replace values\n",
    "        wsignal[ivar, idx_nan] = newvalues\n",
    "        # Print\n",
    "        #print '=='*10, ' Channel: ', ich + 1, '\\tVar: ', ivar+1\n",
    "        #print '\\t', wsignal[ivar, ~idx_nan].std()\n",
    "        #print '\\t', wsignal[ivar, :].std()\n",
    "        std_perc[ich, ivar] = 100 *np.abs(wsignal[ivar, ~idx_nan].std() - wsignal[ivar].std()) \\\n",
    "                                   / wsignal[ivar, ~idx_nan].std() \n",
    "        #print '\\t', std_perc[ivar]\n",
    "    new_200ms_signal[:,ich] = np.reshape(wsignal.T, (signal.shape[0],))"
   ]
  },
  {
   "cell_type": "markdown",
   "metadata": {},
   "source": [
    "## Window 1s"
   ]
  },
  {
   "cell_type": "code",
   "execution_count": 6,
   "metadata": {
    "collapsed": true
   },
   "outputs": [],
   "source": [
    "new_1s_signal = np.array(signal)\n",
    "\n",
    "nsamples = 31250\n",
    "\n",
    "\n",
    "std_perc = np.zeros((signal.shape[1], nsamples))\n",
    "for ich in range(signal.shape[1]):\n",
    "    # Window \n",
    "    wsignal = np.array(signal[:,ich])\n",
    "    wsignal = np.reshape(wsignal, (wsignal.shape[0]/nsamples, nsamples)).T\n",
    "    \n",
    "    # Loop over random variables\n",
    "    for ivar in range(nsamples):\n",
    "        idx_nan = np.isnan(wsignal[ivar])\n",
    "        test_data = wsignal[ivar, ~idx_nan]\n",
    "        X = np.linspace(test_data.min(),test_data.max(), 1000)\n",
    "        ymodel = stats.gaussian_kde(test_data)(X)\n",
    "        newvalues = random_from_dist(X, ymodel, idx_nan.sum(), False, False)\n",
    "        # Replace values\n",
    "        wsignal[ivar, idx_nan] = newvalues\n",
    "        # Print\n",
    "        #print '=='*10, ' Channel: ', ich + 1, '\\tVar: ', ivar+1\n",
    "        #print '\\t', wsignal[ivar, ~idx_nan].std()\n",
    "        #print '\\t', wsignal[ivar, :].std()\n",
    "        std_perc[ich, ivar] = 100 *np.abs(wsignal[ivar, ~idx_nan].std() - wsignal[ivar].std()) \\\n",
    "                                   / wsignal[ivar, ~idx_nan].std() \n",
    "        #print '\\t', std_perc[ivar]\n",
    "    new_1s_signal[:,ich] = np.reshape(wsignal.T, (signal.shape[0],))"
   ]
  },
  {
   "cell_type": "code",
   "execution_count": 8,
   "metadata": {
    "collapsed": false,
    "scrolled": false
   },
   "outputs": [],
   "source": [
    "savemat(datadir + '/novo_ruido.mat', {'ruido':new_noise})\n",
    "savemat(datadir + '/novo_sinal_32ms.mat', {'sinal':new_32ms_signal})\n",
    "savemat(datadir + '/novo_sinal_200ms.mat', {'sinal':new_200ms_signal})\n",
    "savemat(datadir + '/novo_sinal_1s.mat', {'sinal':new_1s_signal})"
   ]
  }
 ],
 "metadata": {
  "kernelspec": {
   "display_name": "Python 2",
   "language": "python",
   "name": "python2"
  },
  "language_info": {
   "codemirror_mode": {
    "name": "ipython",
    "version": 2
   },
   "file_extension": ".py",
   "mimetype": "text/x-python",
   "name": "python",
   "nbconvert_exporter": "python",
   "pygments_lexer": "ipython2",
   "version": "2.7.6"
  }
 },
 "nbformat": 4,
 "nbformat_minor": 0
}
