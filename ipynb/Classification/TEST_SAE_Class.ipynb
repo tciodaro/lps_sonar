{
 "cells": [
  {
   "cell_type": "code",
   "execution_count": 10,
   "metadata": {},
   "outputs": [],
   "source": [
    "import sys\n",
    "import matplotlib.pyplot as plt\n",
    "\n",
    "import numpy as np\n",
    "from sklearn import datasets\n",
    "from sklearn import preprocessing\n",
    "from sklearn import metrics\n",
    "from sklearn import model_selection\n",
    "\n",
    "\n",
    "%matplotlib inline\n",
    "\n",
    "colors = ['r','b','c','g','k','m','y']\n",
    "np.set_printoptions(3)\n",
    "\n",
    "sys.path.append('../')\n",
    "\n",
    "import Sonar.StackedAutoEncoder as SAE"
   ]
  },
  {
   "cell_type": "markdown",
   "metadata": {},
   "source": [
    "# Load Data"
   ]
  },
  {
   "cell_type": "code",
   "execution_count": 3,
   "metadata": {},
   "outputs": [],
   "source": [
    "dataset = datasets.load_iris()\n",
    "data = dataset.data\n",
    "target = dataset.target"
   ]
  },
  {
   "cell_type": "markdown",
   "metadata": {},
   "source": [
    "## Select Novelty "
   ]
  },
  {
   "cell_type": "code",
   "execution_count": 4,
   "metadata": {
    "collapsed": true
   },
   "outputs": [],
   "source": [
    "novcls = 2\n",
    "nov_data = data[target==novcls]\n",
    "nov_target = target[target==novcls]\n",
    "#\n",
    "data   = data[target != novcls]\n",
    "target = target[target != novcls]"
   ]
  },
  {
   "cell_type": "markdown",
   "metadata": {},
   "source": [
    "## Training Indexes "
   ]
  },
  {
   "cell_type": "code",
   "execution_count": 24,
   "metadata": {},
   "outputs": [],
   "source": [
    "# Test x Development\n",
    "ntrn = 0.7\n",
    "Xtrn, Xtst, Ytrn, Ytst = model_selection.train_test_split(data, target, test_size = 1.0-ntrn, stratify=target)\n",
    "\n",
    "cv_indexes = []\n",
    "kfold = model_selection.StratifiedKFold(n_splits=4)\n",
    "for itrn, ival in kfold.split(Xtrn, Ytrn):\n",
    "    cv_indexes.append({'itrn': itrn, 'ival': ival})"
   ]
  },
  {
   "cell_type": "markdown",
   "metadata": {},
   "source": [
    "## Dataprep"
   ]
  },
  {
   "cell_type": "code",
   "execution_count": 6,
   "metadata": {
    "collapsed": true
   },
   "outputs": [],
   "source": [
    "scaler = preprocessing.StandardScaler().fit(data[itrn])\n",
    "data = scaler.transform(data)\n",
    "nov_data = scaler.transform(nov_data)"
   ]
  },
  {
   "cell_type": "markdown",
   "metadata": {},
   "source": [
    "# Network  Configuration"
   ]
  },
  {
   "cell_type": "code",
   "execution_count": 7,
   "metadata": {},
   "outputs": [],
   "source": [
    "net_config = {\n",
    "    'hiddens': [data.shape[1], 10, 5, 2, 5, 10, data.shape[1]],\n",
    "    'optimizers': ['adam','adam','adam'],\n",
    "    'nepochs': 500,\n",
    "    'batch_size': 100,\n",
    "    'ninit': 10,    \n",
    "    'patience' : 100,\n",
    "    'itrn': itrn,\n",
    "    'itst': itst,\n",
    "    'ival': itst,\n",
    "    'verbose': 0,\n",
    "}"
   ]
  },
  {
   "cell_type": "markdown",
   "metadata": {},
   "source": [
    "# Training "
   ]
  },
  {
   "cell_type": "code",
   "execution_count": 9,
   "metadata": {},
   "outputs": [
    {
     "name": "stdout",
     "output_type": "stream",
     "text": [
      "Training 3 layer pairs\n",
      "\tLayer pair 1\n",
      "\t\tStructure = 4:10:4\n",
      "\t\tActivations = tanh:linear\n"
     ]
    }
   ],
   "source": [
    "try:\n",
    "    model = SAE.StackedAutoEncoder(net_config)\n",
    "    model.fit(data)\n",
    "except Exception as err:\n",
    "    import re, os\n",
    "    x = re.match(r'C:\\\\Users\\\\txavier\\\\AppData\\\\Local\\\\Temp\\\\3\\\\\\w*\\.exe', err.__str__())\n",
    "    if x is not None:\n",
    "        print('Removing file')\n",
    "        os.remove(err.__str__()[x.start():x.endpos])"
   ]
  },
  {
   "cell_type": "code",
   "execution_count": null,
   "metadata": {},
   "outputs": [],
   "source": [
    "model.plot_training_curves()"
   ]
  },
  {
   "cell_type": "code",
   "execution_count": null,
   "metadata": {
    "collapsed": true
   },
   "outputs": [],
   "source": []
  }
 ],
 "metadata": {
  "kernelspec": {
   "display_name": "Python 3",
   "language": "python",
   "name": "python3"
  },
  "language_info": {
   "codemirror_mode": {
    "name": "ipython",
    "version": 3
   },
   "file_extension": ".py",
   "mimetype": "text/x-python",
   "name": "python",
   "nbconvert_exporter": "python",
   "pygments_lexer": "ipython3",
   "version": "3.6.3"
  }
 },
 "nbformat": 4,
 "nbformat_minor": 2
}
