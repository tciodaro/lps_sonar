{
 "cells": [
  {
   "cell_type": "code",
   "execution_count": 1,
   "metadata": {},
   "outputs": [
    {
     "name": "stderr",
     "output_type": "stream",
     "text": [
      "Using Theano backend.\n"
     ]
    }
   ],
   "source": [
    "from keras import models\n",
    "from keras import layers\n",
    "from keras import optimizers\n",
    "from keras import callbacks\n",
    "from keras import backend\n",
    "\n",
    "import numpy as np\n",
    "import time\n",
    "from sklearn import datasets\n",
    "from sklearn import preprocessing\n",
    "from sklearn import metrics\n",
    "\n",
    "import theano\n",
    "import matplotlib.pyplot as plt\n",
    "\n",
    "import multiprocessing as mp\n",
    "\n",
    "%matplotlib inline\n",
    "\n",
    "\n",
    "colors = ['r','b','c','g','k','m','y']\n",
    "np.set_printoptions(3)"
   ]
  },
  {
   "cell_type": "markdown",
   "metadata": {
    "collapsed": true
   },
   "source": [
    "# Load Data"
   ]
  },
  {
   "cell_type": "code",
   "execution_count": 2,
   "metadata": {
    "collapsed": true
   },
   "outputs": [],
   "source": [
    "dataset = datasets.load_iris()\n",
    "data = dataset.data\n",
    "target = dataset.target"
   ]
  },
  {
   "cell_type": "markdown",
   "metadata": {},
   "source": [
    "## Select Novelty"
   ]
  },
  {
   "cell_type": "code",
   "execution_count": 3,
   "metadata": {
    "collapsed": true
   },
   "outputs": [],
   "source": [
    "novcls = 2\n",
    "nov_data = data[target==novcls]\n",
    "nov_target = target[target==novcls]\n",
    "#\n",
    "data   = data[target != novcls]\n",
    "target = target[target != novcls]"
   ]
  },
  {
   "cell_type": "markdown",
   "metadata": {},
   "source": [
    "## Training Indexes"
   ]
  },
  {
   "cell_type": "code",
   "execution_count": 4,
   "metadata": {
    "collapsed": true
   },
   "outputs": [],
   "source": [
    "ntrn = 0.7\n",
    "\n",
    "indexes = np.arange(data.shape[0])\n",
    "np.random.shuffle(indexes)\n",
    "n = int(ntrn * data.shape[0])\n",
    "itrn = indexes[:n]\n",
    "itst = indexes[n:]"
   ]
  },
  {
   "cell_type": "markdown",
   "metadata": {},
   "source": [
    "## Dataprep"
   ]
  },
  {
   "cell_type": "code",
   "execution_count": 5,
   "metadata": {},
   "outputs": [],
   "source": [
    "scaler = preprocessing.StandardScaler().fit(data[itrn])\n",
    "data = scaler.transform(data)\n",
    "nov_data = scaler.transform(nov_data)"
   ]
  },
  {
   "cell_type": "markdown",
   "metadata": {},
   "source": [
    "# Network Configuration"
   ]
  },
  {
   "cell_type": "code",
   "execution_count": 6,
   "metadata": {},
   "outputs": [],
   "source": [
    "net_config = {\n",
    "    'hiddens': [data.shape[1], 10, 5, 2, 5, 10, data.shape[1]],\n",
    "    'optimizers': ['adam','adam','adam'],\n",
    "    'nepochs': 500,\n",
    "    'batch_size': 100,\n",
    "    'ninit': 10,    \n",
    "    'nproc' : 2\n",
    "}"
   ]
  },
  {
   "cell_type": "markdown",
   "metadata": {
    "collapsed": true
   },
   "source": [
    "# Network Structure"
   ]
  },
  {
   "cell_type": "code",
   "execution_count": 9,
   "metadata": {},
   "outputs": [
    {
     "name": "stdout",
     "output_type": "stream",
     "text": [
      "Training 3 layer pairs\n",
      "\tLayer pair 1\n",
      "\t\tStructure = 4:10:4\n",
      "\t\tActivations = tanh:linear\n",
      "\tLayer pair 2\n",
      "\t\tStructure = 10:5:10\n",
      "\t\tActivations = tanh:tanh\n",
      "\tLayer pair 3\n",
      "\t\tStructure = 5:2:5\n",
      "\t\tActivations = tanh:tanh\n",
      "Training took 28 s\n"
     ]
    }
   ],
   "source": [
    "t0 = time.time()\n",
    "# Over training layers\n",
    "npairs = int(len(net_config['hiddens'])/2.0)\n",
    "\n",
    "nn_trn = {}\n",
    "nnet   = {}\n",
    "print('Training %i layer pairs'%npairs)\n",
    "X = data # input == output\n",
    "for ilayer in range(1, npairs+1):\n",
    "    print(\"\\tLayer pair %i\"%(ilayer))\n",
    "    print(\"\\t\\tStructure = %i:%i:%i\"%(net_config['hiddens'][ilayer-1],\n",
    "                                      net_config['hiddens'][ilayer],\n",
    "                                      net_config['hiddens'][len(net_config['hiddens']) - ilayer]))\n",
    "    print(\"\\t\\tActivations = tanh:%s\"%('linear' if ilayer == 1 else 'tanh')) # only first iteration's output is linear\n",
    "    ###### Training\n",
    "    # Different Initializations\n",
    "    nn_trn[ilayer] = None\n",
    "    best_perf = 1e9\n",
    "    nnet[ilayer] = None\n",
    "    for iinit in range(net_config['ninit']):\n",
    "        model = models.Sequential()\n",
    "        # Create network structure\n",
    "        model.add(layers.Dense(net_config['hiddens'][ilayer],\n",
    "                               activation = 'tanh',\n",
    "                               input_shape = [net_config['hiddens'][ilayer-1]],\n",
    "                               kernel_initializer = 'uniform'))\n",
    "        model.add(layers.Dense(net_config['hiddens'][len(net_config['hiddens']) - ilayer],\n",
    "                               activation = 'linear' if ilayer == 1 else 'tanh',\n",
    "                               input_shape = [net_config['hiddens'][ilayer]],\n",
    "                               kernel_initializer = 'uniform'))  \n",
    "        # Training    \n",
    "        opt = optimizers.Adam(lr=0.01, beta_1=0.9, beta_2=0.999, epsilon=1e-08)\n",
    "        #opt = optimizers.SGD(lr=0.01, decay=1e-4, momentum=0.9, nesterov=True)\n",
    "        model.compile(loss='mean_squared_error', optimizer=opt)\n",
    "        earlyStopping = callbacks.EarlyStopping(monitor='val_loss', patience=100, verbose=0, mode='auto')\n",
    "        # Should be done for each initialization\n",
    "        init_trn_desc = model.fit(X[itrn], X[itrn], \n",
    "                                  epochs = net_config['nepochs'], \n",
    "                                  batch_size = net_config['batch_size'],\n",
    "                                  callbacks = [earlyStopping], \n",
    "                                  verbose = 0,\n",
    "                                  validation_data = (X[itst], X[itst]),\n",
    "                                  shuffle=False)\n",
    "        # Get best\n",
    "        if init_trn_desc.history['loss'][-1] < best_perf:\n",
    "            nn_trn[ilayer] = init_trn_desc\n",
    "            best_perf = init_trn_desc.history['loss'][-1]\n",
    "            nnet[ilayer] = model\n",
    "\n",
    "    # Update input as the output of the hidden layer\n",
    "    hidden_layer = backend.function([nnet[ilayer].layers[0].input],[nnet[ilayer].layers[0].output])\n",
    "    X = hidden_layer([X])[0]\n",
    "# Put together final model\n",
    "final_model = models.Sequential()\n",
    "final_model.add(nnet[1].layers[0])\n",
    "final_model.add(nnet[2].layers[0])\n",
    "final_model.add(nnet[3].layers[0])\n",
    "final_model.add(nnet[3].layers[1])\n",
    "final_model.add(nnet[2].layers[1])\n",
    "final_model.add(nnet[1].layers[1])\n",
    "# Encoder model\n",
    "encoder = models.Sequential()\n",
    "encoder.add(nnet[1].layers[0])\n",
    "encoder.add(nnet[2].layers[0])\n",
    "encoder.add(nnet[3].layers[0])\n",
    "\n",
    "print('Training took %i s'%(time.time() - t0))"
   ]
  },
  {
   "cell_type": "code",
   "execution_count": 10,
   "metadata": {},
   "outputs": [
    {
     "name": "stdout",
     "output_type": "stream",
     "text": [
      "0.0132755730301\n"
     ]
    },
    {
     "data": {
      "image/png": "[encoded data removed]",
      "text/plain": [
       "<matplotlib.figure.Figure at 0x4d9ac90630>"
      ]
     },
     "metadata": {},
     "output_type": "display_data"
    }
   ],
   "source": [
    "ilayer = 3\n",
    "metric = 'loss'\n",
    "plt.plot(nn_trn[ilayer].epoch, nn_trn[ilayer].history[metric], '-b', lw = 3, label='trn')\n",
    "plt.plot(nn_trn[ilayer].epoch, nn_trn[ilayer].history['val_'+metric], '-g', lw = 3, label='val')\n",
    "plt.legend(loc='best')\n",
    "plt.grid()\n",
    "print(nn_trn[ilayer].history['loss'][-1])"
   ]
  },
  {
   "cell_type": "code",
   "execution_count": 11,
   "metadata": {},
   "outputs": [],
   "source": [
    "final_model = models.Sequential()\n",
    "\n",
    "final_model.add(nnet[1].layers[0])\n",
    "final_model.add(nnet[2].layers[0])\n",
    "final_model.add(nnet[3].layers[0])\n",
    "final_model.add(nnet[3].layers[1])\n",
    "final_model.add(nnet[2].layers[1])\n",
    "final_model.add(nnet[1].layers[1])\n",
    "\n",
    "Y = final_model.predict(data)\n",
    "\n",
    "encoder = models.Sequential()\n",
    "encoder.add(nnet[1].layers[0])\n",
    "encoder.add(nnet[2].layers[0])\n",
    "encoder.add(nnet[3].layers[0])\n",
    "\n",
    "Z = encoder.predict(data)"
   ]
  },
  {
   "cell_type": "code",
   "execution_count": 12,
   "metadata": {},
   "outputs": [
    {
     "data": {
      "image/png": "[encoded data removed]",
      "text/plain": [
       "<matplotlib.figure.Figure at 0x4d9a345978>"
      ]
     },
     "metadata": {},
     "output_type": "display_data"
    }
   ],
   "source": [
    "for c in np.unique(target):\n",
    "    idx = target == c\n",
    "    plt.plot(Z[idx,0],Z[idx,1],'.')"
   ]
  },
  {
   "cell_type": "code",
   "execution_count": null,
   "metadata": {
    "collapsed": true
   },
   "outputs": [],
   "source": []
  },
  {
   "cell_type": "code",
   "execution_count": 13,
   "metadata": {},
   "outputs": [
    {
     "name": "stdout",
     "output_type": "stream",
     "text": [
      "Expected error: 0.053\n",
      "Novelty  error: 0.519\n",
      "\tPerc.: -876.35%\n"
     ]
    }
   ],
   "source": [
    "known_error = metrics.mean_squared_error(Y[itrn], data[itrn])\n",
    "\n",
    "Ynov = final_model.predict(nov_data)\n",
    "nov_error = metrics.mean_squared_error(Ynov, nov_data)\n",
    "\n",
    "print('Expected error: %.3f'%known_error)\n",
    "print('Novelty  error: %.3f'%nov_error)\n",
    "print('\\tPerc.: %.2f%%'%(100 * (known_error - nov_error)/known_error))\n"
   ]
  },
  {
   "cell_type": "code",
   "execution_count": null,
   "metadata": {
    "collapsed": true
   },
   "outputs": [],
   "source": []
  },
  {
   "cell_type": "markdown",
   "metadata": {},
   "source": [
    "# Multiprocessing Training "
   ]
  },
  {
   "cell_type": "code",
   "execution_count": null,
   "metadata": {
    "collapsed": true
   },
   "outputs": [],
   "source": [
    "def training_parallel(args):\n",
    "    X = args['data']\n",
    "    itrn = args['itrn']\n",
    "    itst = args['itst']\n",
    "    model = models.Sequential()\n",
    "    nhidden = args['nhidden']\n",
    "    ninput = args['ninput']\n",
    "    noutput = args['noutput']\n",
    "    act_hidden = args['act_hidden']\n",
    "    act_output = args['act_output']\n",
    "    nepochs = args['nepochs']\n",
    "    batch_size = args['batch_size']\n",
    "    # Create network structure\n",
    "    model.add(layers.Dense(nhidden,\n",
    "                           activation = act_hidden,\n",
    "                           input_shape = [ninput],\n",
    "                           kernel_initializer = 'uniform'))\n",
    "    model.add(layers.Dense(noutput,\n",
    "                           activation = act_output,\n",
    "                           input_shape = [nhidden],\n",
    "                           kernel_initializer = 'uniform'))  \n",
    "    # Training    \n",
    "    opt = optimizers.Adam(lr=0.01, beta_1=0.9, beta_2=0.999, epsilon=1e-08)\n",
    "    model.compile(loss='mean_squared_error', optimizer=opt)\n",
    "    earlyStopping = callbacks.EarlyStopping(monitor='val_loss', patience=100, verbose=0, mode='auto')\n",
    "    # Should be done for each initialization\n",
    "    init_trn_desc = model.fit(X[itrn], X[itrn], \n",
    "                              epochs = nepochs, \n",
    "                              batch_size = batch_size,\n",
    "                              callbacks = [earlyStopping], \n",
    "                              verbose = 0,\n",
    "                              validation_data = (X[itst], X[itst]),\n",
    "                              shuffle=False)\n",
    "    return (model, init_trn_desc, init_trn_desc.history['loss'][-1])"
   ]
  },
  {
   "cell_type": "code",
   "execution_count": null,
   "metadata": {},
   "outputs": [],
   "source": [
    "t0 = time.time()\n",
    "\n",
    "# Over training layers\n",
    "npairs = int(len(net_config['hiddens'])/2.0)\n",
    "\n",
    "nn_trn = {}\n",
    "nnet   = {}\n",
    "print('Training %i layer pairs'%npairs)\n",
    "X = data # input == output\n",
    "for ilayer in range(1, npairs+1):\n",
    "    print(\"\\tLayer pair %i\"%(ilayer))\n",
    "    print(\"\\t\\tStructure = %i:%i:%i\"%(net_config['hiddens'][ilayer-1],\n",
    "                                      net_config['hiddens'][ilayer],\n",
    "                                      net_config['hiddens'][len(net_config['hiddens']) - ilayer]))\n",
    "    print(\"\\t\\tActivations = tanh:%s\"%('linear' if ilayer == 1 else 'tanh')) # only first iteration's output is linear\n",
    "    ###### Training\n",
    "    # Different Initializations\n",
    "    nn_trn[ilayer] = None\n",
    "    best_perf = 1e9\n",
    "    nnet[ilayer] = None\n",
    "    args = {\n",
    "        'data': X,\n",
    "        'itrn': itrn,\n",
    "        'itst': itst,\n",
    "        'nhidden': net_config['hiddens'][ilayer],\n",
    "        'ninput': net_config['hiddens'][ilayer-1],\n",
    "        'noutput': net_config['hiddens'][len(net_config['hiddens']) - ilayer],\n",
    "        'act_hidden': 'tanh',\n",
    "        'act_output': 'linear' if ilayer == 1 else 'tanh',\n",
    "        'nepochs': net_config['nepochs'],\n",
    "        'batch_size': net_config['batch_size']\n",
    "        \n",
    "    }\n",
    "    \n",
    "    \n",
    "    pool = mp.Pool(processes=net_config['nproc'])\n",
    "    results = [pool.apply_async(training_parallel, args=(args,)) for i in range(net_config['ninit'])]\n",
    "    results = [p.get() for p in results]\n",
    "    scores  = [obj[2] for obj in results]\n",
    "    idx = np.argmin(scores)\n",
    "    nnet[ilayer]   = results[idx][0]\n",
    "    nn_trn[ilayer] = results[idx][1]\n",
    "    # Update input as the output of the hidden layer\n",
    "    hidden_layer = backend.function([nnet[ilayer].layers[0].input],[nnet[ilayer].layers[0].output])\n",
    "    X = hidden_layer([X])[0]\n",
    "# Put together final model\n",
    "final_model = models.Sequential()\n",
    "final_model.add(nnet[1].layers[0])\n",
    "final_model.add(nnet[2].layers[0])\n",
    "final_model.add(nnet[3].layers[0])\n",
    "final_model.add(nnet[3].layers[1])\n",
    "final_model.add(nnet[2].layers[1])\n",
    "final_model.add(nnet[1].layers[1])\n",
    "# Encoder model\n",
    "encoder = models.Sequential()\n",
    "encoder.add(nnet[1].layers[0])\n",
    "encoder.add(nnet[2].layers[0])\n",
    "encoder.add(nnet[3].layers[0])\n",
    "\n",
    "\n",
    "print('Training took %i s'%(time.time() - t0))"
   ]
  },
  {
   "cell_type": "code",
   "execution_count": null,
   "metadata": {
    "collapsed": true
   },
   "outputs": [],
   "source": []
  },
  {
   "cell_type": "code",
   "execution_count": null,
   "metadata": {
    "collapsed": true
   },
   "outputs": [],
   "source": [
    "# Over training layers\n",
    "npairs = int(len(net_config['hiddens'])/2.0)\n",
    "\n",
    "nn_trn = {}\n",
    "nnet   = {}\n",
    "print('Training %i layer pairs'%npairs)\n",
    "X = data # input == output\n",
    "for ilayer in range(1, npairs+1):\n",
    "    print(\"\\tLayer pair %i\"%(ilayer))\n",
    "    print(\"\\t\\tStructure = %i:%i:%i\"%(net_config['hiddens'][ilayer-1],\n",
    "                                      net_config['hiddens'][ilayer],\n",
    "                                      net_config['hiddens'][len(net_config['hiddens']) - ilayer]))\n",
    "    print(\"\\t\\tActivations = tanh:%s\"%('linear' if ilayer == 1 else 'tanh')) # only first iteration's output is linear\n",
    "    ###### Training\n",
    "    # Different Initializations\n",
    "    nn_trn[ilayer] = None\n",
    "    best_perf = 1e9\n",
    "    nnet[ilayer] = None\n",
    "    for iinit in range(net_config['ninit']):\n",
    "        model = models.Sequential()\n",
    "        # Create network structure\n",
    "        model.add(layers.Dense(net_config['hiddens'][ilayer],\n",
    "                               activation = 'tanh',\n",
    "                               input_shape = [net_config['hiddens'][ilayer-1]],\n",
    "                               kernel_initializer = 'uniform'))\n",
    "        model.add(layers.Dense(net_config['hiddens'][len(net_config['hiddens']) - ilayer],\n",
    "                               activation = 'linear' if ilayer == 1 else 'tanh',\n",
    "                               input_shape = [net_config['hiddens'][ilayer-1]],\n",
    "                               kernel_initializer = 'uniform'))  \n",
    "        # Training    \n",
    "        opt = optimizers.Adam(lr=0.01, beta_1=0.9, beta_2=0.999, epsilon=1e-08)\n",
    "        #opt = optimizers.SGD(lr=0.01, decay=1e-4, momentum=0.9, nesterov=True)\n",
    "        model.compile(loss='mean_squared_error', optimizer=opt)\n",
    "        earlyStopping = callbacks.EarlyStopping(monitor='val_loss', patience=100, verbose=0, mode='auto')\n",
    "        # Should be done for each initialization\n",
    "        init_trn_desc = model.fit(X[itrn], X[itrn], \n",
    "                                  epochs = net_config['nepochs'], \n",
    "                                  batch_size = net_config['batch_size'],\n",
    "                                  callbacks = [earlyStopping], \n",
    "                                  verbose = 0,\n",
    "                                  validation_data = (X[itst], X[itst]),\n",
    "                                  shuffle=False)\n",
    "        # Get best\n",
    "        if init_trn_desc.history['loss'][-1] < best_perf:\n",
    "            nn_trn[ilayer] = init_trn_desc\n",
    "            best_perf = init_trn_desc.history['loss'][-1]\n",
    "            nnet[ilayer] = model\n",
    "\n",
    "    # Update input as the output of the hidden layer\n",
    "    hidden_layer = backend.function([nnet[ilayer].layers[0].input],[nnet[ilayer].layers[0].output])\n",
    "    X = hidden_layer([X])[0]\n",
    "# Put together final model\n",
    "final_model = models.Sequential()\n",
    "final_model.add(nnet[1].layers[0])\n",
    "final_model.add(nnet[2].layers[0])\n",
    "final_model.add(nnet[3].layers[0])\n",
    "final_model.add(nnet[3].layers[1])\n",
    "final_model.add(nnet[2].layers[1])\n",
    "final_model.add(nnet[1].layers[1])\n",
    "# Encoder model\n",
    "encoder = models.Sequential()\n",
    "encoder.add(nnet[1].layers[0])\n",
    "encoder.add(nnet[2].layers[0])\n",
    "encoder.add(nnet[3].layers[0])"
   ]
  },
  {
   "cell_type": "code",
   "execution_count": null,
   "metadata": {
    "collapsed": true
   },
   "outputs": [],
   "source": []
  },
  {
   "cell_type": "code",
   "execution_count": null,
   "metadata": {
    "collapsed": true
   },
   "outputs": [],
   "source": []
  },
  {
   "cell_type": "code",
   "execution_count": null,
   "metadata": {
    "collapsed": true
   },
   "outputs": [],
   "source": []
  },
  {
   "cell_type": "code",
   "execution_count": null,
   "metadata": {
    "collapsed": true
   },
   "outputs": [],
   "source": []
  },
  {
   "cell_type": "code",
   "execution_count": null,
   "metadata": {
    "collapsed": true
   },
   "outputs": [],
   "source": []
  },
  {
   "cell_type": "code",
   "execution_count": null,
   "metadata": {
    "collapsed": true
   },
   "outputs": [],
   "source": []
  }
 ],
 "metadata": {
  "kernelspec": {
   "display_name": "Python 3",
   "language": "python",
   "name": "python3"
  },
  "language_info": {
   "codemirror_mode": {
    "name": "ipython",
    "version": 3
   },
   "file_extension": ".py",
   "mimetype": "text/x-python",
   "name": "python",
   "nbconvert_exporter": "python",
   "pygments_lexer": "ipython3",
   "version": "3.6.3"
  }
 },
 "nbformat": 4,
 "nbformat_minor": 1
}
