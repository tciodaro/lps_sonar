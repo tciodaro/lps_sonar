{
 "cells": [
  {
   "cell_type": "code",
   "execution_count": 163,
   "metadata": {
    "collapsed": false
   },
   "outputs": [],
   "source": [
    "from keras import models\n",
    "from keras import layers\n",
    "from keras import optimizers\n",
    "from keras import callbacks\n",
    "from keras import backend\n",
    "\n",
    "import numpy as np\n",
    "import time\n",
    "from sklearn import datasets\n",
    "from sklearn import preprocessing\n",
    "from sklearn import metrics\n",
    "\n",
    "import theano\n",
    "import matplotlib.pyplot as plt\n",
    "\n",
    "%matplotlib inline\n",
    "\n",
    "\n",
    "colors = ['r','b','c','g','k','m','y']\n",
    "np.set_printoptions(3)"
   ]
  },
  {
   "cell_type": "markdown",
   "metadata": {
    "collapsed": true
   },
   "source": [
    "# Load Data"
   ]
  },
  {
   "cell_type": "code",
   "execution_count": 3,
   "metadata": {
    "collapsed": true
   },
   "outputs": [],
   "source": [
    "dataset = datasets.load_iris()\n",
    "data = dataset.data\n",
    "target = dataset.target"
   ]
  },
  {
   "cell_type": "markdown",
   "metadata": {},
   "source": [
    "## Training Indexes"
   ]
  },
  {
   "cell_type": "code",
   "execution_count": 40,
   "metadata": {
    "collapsed": true
   },
   "outputs": [],
   "source": [
    "ntrn = 0.7\n",
    "\n",
    "indexes = np.arange(data.shape[0])\n",
    "np.random.shuffle(indexes)\n",
    "n = int(ntrn * data.shape[0])\n",
    "itrn = indexes[:n]\n",
    "itst = indexes[n:]"
   ]
  },
  {
   "cell_type": "markdown",
   "metadata": {},
   "source": [
    "## Dataprep"
   ]
  },
  {
   "cell_type": "code",
   "execution_count": 138,
   "metadata": {
    "collapsed": true
   },
   "outputs": [],
   "source": [
    "scaler = preprocessing.StandardScaler().fit(data[itrn])\n",
    "data = scaler.transform(data)"
   ]
  },
  {
   "cell_type": "markdown",
   "metadata": {},
   "source": [
    "# Network Configuration"
   ]
  },
  {
   "cell_type": "code",
   "execution_count": 194,
   "metadata": {
    "collapsed": true
   },
   "outputs": [],
   "source": [
    "net_config = {\n",
    "    'hiddens': [data.shape[1], 10, 5, 2, 5, 10, data.shape[1]],\n",
    "    'activations': ['', 'tanh','tanh','tanh', 'tanh','linear'],\n",
    "    'optimizers': ['adam','adam','adam'],\n",
    "    'ninput': (data.shape[1], ),\n",
    "    'nepochs': 500,\n",
    "    'batch_size': 100,\n",
    "    'ninit': 10,    \n",
    "}"
   ]
  },
  {
   "cell_type": "markdown",
   "metadata": {
    "collapsed": true
   },
   "source": [
    "# Network Structure"
   ]
  },
  {
   "cell_type": "code",
   "execution_count": 198,
   "metadata": {
    "collapsed": false
   },
   "outputs": [
    {
     "name": "stdout",
     "output_type": "stream",
     "text": [
      "Layer pair 1: adding and training\n",
      "\t4 : 10, tanh, trainable\n",
      "\t10 : 4, linear, trainable\n"
     ]
    }
   ],
   "source": [
    "# Over training layers\n",
    "N = 1\n",
    "model = models.Sequential()\n",
    "print(\"Layer pair %i: adding and training\"%(N))\n",
    "for it in range(N):\n",
    "    print(\"\\t%i : %i, %s, %s\"%(net_config['hiddens'][it],net_config['hiddens'][it+1],\n",
    "                               net_config['activations'][it+1],\n",
    "                               'trainable' if it == (N-1) else 'frozen'))\n",
    "for it in range(N, 0, -1):\n",
    "    print(\"\\t%i : %i, %s, %s\"%(net_config['hiddens'][-(it+1)],net_config['hiddens'][-it],\n",
    "                               net_config['activations'][-it],\n",
    "                               'trainable' if it > N-1 else 'frozen'))\n",
    "    \n",
    "###### Training\n",
    "# Different Initializations\n",
    "nn_trn = None\n",
    "best_perf = 1e9\n",
    "nnet = None\n",
    "for iinit in range(net_config['ninit']):\n",
    "    # Create network structure\n",
    "    for it in range(N):\n",
    "        model.add(layers.Dense(net_config['hiddens'][it+1],\n",
    "                               activation = net_config['activations'][it+1],\n",
    "                               input_shape = [net_config['hiddens'][it]],\n",
    "                               kernel_initializer = 'uniform',\n",
    "                               trainable = it == (N-1)))\n",
    "    for it in range(N, 0, -1):\n",
    "        model.add(layers.Dense(net_config['hiddens'][-it],\n",
    "                               activation = net_config['activations'][-it],\n",
    "                               input_shape = [net_config['hiddens'][-(it+1)]],\n",
    "                               kernel_initializer = 'uniform',\n",
    "                               trainable = it > N-1))  \n",
    "    # Training    \n",
    "    #opt = optimizers.Adam(lr=0.01, beta_1=0.9, beta_2=0.999, epsilon=1e-08)\n",
    "    opt = optimizers.SGD(lr=0.01, decay=1e-4, momentum=0.9, nesterov=True)\n",
    "    model.compile(loss='mean_squared_error', optimizer=opt)\n",
    "    earlyStopping = callbacks.EarlyStopping(monitor='val_loss', patience=100, verbose=0, mode='auto')\n",
    "    # Should be done for each initialization\n",
    "    init_trn_desc = model.fit(data[itrn], data[itrn], \n",
    "                              epochs = net_config['nepochs'], \n",
    "                              batch_size = net_config['batch_size'],\n",
    "                              callbacks = [earlyStopping], \n",
    "                              verbose = 0,\n",
    "                              validation_data = (data[itst], data[itst]),\n",
    "                              shuffle=False)\n",
    "    # Get best\n",
    "    if init_trn_desc.history['loss'][-1] < best_perf:\n",
    "        nn_trn = init_trn_desc\n",
    "        best_perf = init_trn_desc.history['loss'][-1]\n",
    "        nnet = model\n",
    "        \n",
    "# Output from 1-th layer\n",
    "#hidden_layer = backend.function([nnet.layers[0].input], [nnet.layers[1].output])        "
   ]
  },
  {
   "cell_type": "code",
   "execution_count": 199,
   "metadata": {
    "collapsed": false
   },
   "outputs": [
    {
     "data": {
      "image/png": "[encoded data removed]",
      "text/plain": [
       "<matplotlib.figure.Figure at 0x11a7475c0>"
      ]
     },
     "metadata": {},
     "output_type": "display_data"
    }
   ],
   "source": [
    "plt.plot(nn_trn.epoch, nn_trn.history['loss'], '-b', lw = 3, label='trn')\n",
    "plt.plot(nn_trn.epoch, nn_trn.history['val_loss'], '-g', lw = 3, label='val')\n",
    "plt.legend(loc='best')\n",
    "plt.grid()"
   ]
  },
  {
   "cell_type": "code",
   "execution_count": null,
   "metadata": {
    "collapsed": true
   },
   "outputs": [],
   "source": [
    "Y = nnet.predict(data)\n",
    "print(metrics.mean_squared_error(Y[itrn], data[itrn]))\n",
    "print(nn_trn.history['loss'][-1])\n",
    "\n",
    "print('validation')\n",
    "print(metrics.mean_squared_error(Y[itst], data[itst]))\n",
    "print(np.min(nn_trn.history['val_loss']))\n",
    "print(nn_trn.history['val_loss'][-1])"
   ]
  },
  {
   "cell_type": "code",
   "execution_count": 203,
   "metadata": {
    "collapsed": false
   },
   "outputs": [
    {
     "name": "stdout",
     "output_type": "stream",
     "text": [
      "treino\n",
      "0.0169675776246\n",
      "0.0110705484015\n",
      "0.0110705484015\n",
      "validation\n",
      "0.0209695817761\n",
      "0.0135020529851\n",
      "0.0135020529851\n"
     ]
    }
   ],
   "source": [
    "Y = nnet.predict(data)\n",
    "\n",
    "print('treino')\n",
    "print(metrics.mean_squared_error(Y[itrn], data[itrn]))\n",
    "print(np.min(nn_trn.history['loss']))\n",
    "print(nn_trn.history['loss'][-1])\n",
    "\n",
    "print('validation')\n",
    "print(metrics.mean_squared_error(Y[itst], data[itst]))\n",
    "print(np.min(nn_trn.history['val_loss']))\n",
    "print(nn_trn.history['val_loss'][-1])"
   ]
  },
  {
   "cell_type": "code",
   "execution_count": null,
   "metadata": {
    "collapsed": true
   },
   "outputs": [],
   "source": []
  },
  {
   "cell_type": "code",
   "execution_count": null,
   "metadata": {
    "collapsed": true
   },
   "outputs": [],
   "source": []
  }
 ],
 "metadata": {
  "kernelspec": {
   "display_name": "Python 3",
   "language": "python",
   "name": "python3"
  },
  "language_info": {
   "codemirror_mode": {
    "name": "ipython",
    "version": 3
   },
   "file_extension": ".py",
   "mimetype": "text/x-python",
   "name": "python",
   "nbconvert_exporter": "python",
   "pygments_lexer": "ipython3",
   "version": "3.5.1"
  }
 },
 "nbformat": 4,
 "nbformat_minor": 0
}
