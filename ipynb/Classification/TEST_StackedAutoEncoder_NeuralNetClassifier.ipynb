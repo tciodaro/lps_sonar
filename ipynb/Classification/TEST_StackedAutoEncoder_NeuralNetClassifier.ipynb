{
 "cells": [
  {
   "cell_type": "code",
   "execution_count": 19,
   "metadata": {},
   "outputs": [],
   "source": [
    "import numpy as np\n",
    "import time\n",
    "from sklearn.externals import joblib\n",
    "from sklearn import model_selection\n",
    "import itertools\n",
    "from sklearn import datasets\n",
    "from sklearn import preprocessing\n",
    "from sklearn import metrics\n",
    "\n",
    "import sys\n",
    "sys.path.append('../')\n",
    "\n",
    "from Sonar import StackedAutoEncoderCV as SAE\n",
    "\n",
    "np.set_printoptions(3)\n",
    "\n",
    "base_filename = '../Models/iris_sae_CLASS.jbl'"
   ]
  },
  {
   "cell_type": "markdown",
   "metadata": {},
   "source": [
    "# Load Data "
   ]
  },
  {
   "cell_type": "code",
   "execution_count": 11,
   "metadata": {},
   "outputs": [],
   "source": [
    "dataset = datasets.load_iris()\n",
    "data = dataset.data\n",
    "target = dataset.target\n",
    "class_names = dataset['target_names']"
   ]
  },
  {
   "cell_type": "markdown",
   "metadata": {},
   "source": [
    "# Novelty Definition "
   ]
  },
  {
   "cell_type": "code",
   "execution_count": 16,
   "metadata": {},
   "outputs": [],
   "source": [
    "nov_cls = 1\n",
    "nov_data = data[target == nov_cls]\n",
    "nov_target = target[target == nov_cls]\n",
    "nov_name = class_names[nov_cls]\n",
    "# Known data\n",
    "data = data[target != nov_cls]\n",
    "target = target[target != nov_cls]\n",
    "class_names = np.setdiff1d(class_names, [nov_name])"
   ]
  },
  {
   "cell_type": "markdown",
   "metadata": {},
   "source": [
    "# Load Models "
   ]
  },
  {
   "cell_type": "code",
   "execution_count": 27,
   "metadata": {},
   "outputs": [
    {
     "name": "stdout",
     "output_type": "stream",
     "text": [
      "Loading from  ../Models/iris_sae_setosa.jbl\n",
      "Loading from  ../Models/iris_sae_virginica.jbl\n"
     ]
    }
   ],
   "source": [
    "encoders = {}\n",
    "for cls in class_names:\n",
    "    sae = SAE.StackedAutoEncoderCV()\n",
    "    sae.load(base_filename.replace('CLASS', cls))\n",
    "    encoders[cls] = sae.network.get_encoder()"
   ]
  },
  {
   "cell_type": "markdown",
   "metadata": {},
   "source": [
    "# Add Output Classification Layer "
   ]
  },
  {
   "cell_type": "code",
   "execution_count": null,
   "metadata": {
    "collapsed": true
   },
   "outputs": [],
   "source": []
  },
  {
   "cell_type": "code",
   "execution_count": null,
   "metadata": {
    "collapsed": true
   },
   "outputs": [],
   "source": []
  },
  {
   "cell_type": "code",
   "execution_count": null,
   "metadata": {
    "collapsed": true
   },
   "outputs": [],
   "source": []
  },
  {
   "cell_type": "code",
   "execution_count": null,
   "metadata": {
    "collapsed": true
   },
   "outputs": [],
   "source": []
  }
 ],
 "metadata": {
  "kernelspec": {
   "display_name": "Python 2",
   "language": "python",
   "name": "python2"
  },
  "language_info": {
   "codemirror_mode": {
    "name": "ipython",
    "version": 2
   },
   "file_extension": ".py",
   "mimetype": "text/x-python",
   "name": "python",
   "nbconvert_exporter": "python",
   "pygments_lexer": "ipython2",
   "version": "2.7.13"
  }
 },
 "nbformat": 4,
 "nbformat_minor": 2
}
