{
 "cells": [
  {
   "cell_type": "code",
   "execution_count": 1,
   "metadata": {},
   "outputs": [
    {
     "name": "stderr",
     "output_type": "stream",
     "text": [
      "/Users/ciodaro/.virtualenvs/sonar/lib/python2.7/site-packages/h5py/__init__.py:36: FutureWarning: Conversion of the second argument of issubdtype from `float` to `np.floating` is deprecated. In future, it will be treated as `np.float64 == np.dtype(float).type`.\n",
      "  from ._conv import register_converters as _register_converters\n",
      "Using Theano backend.\n"
     ]
    }
   ],
   "source": [
    "import numpy as np\n",
    "import time\n",
    "from sklearn.externals import joblib\n",
    "from sklearn import model_selection\n",
    "import itertools\n",
    "from sklearn import datasets\n",
    "from sklearn import preprocessing\n",
    "from sklearn import metrics\n",
    "\n",
    "\n",
    "from keras import models\n",
    "from keras import layers\n",
    "from keras import optimizers\n",
    "from keras import callbacks\n",
    "from keras import backend\n",
    "\n",
    "import matplotlib.pyplot as plt\n",
    "%matplotlib inline\n",
    "\n",
    "import sys\n",
    "sys.path.append('../')\n",
    "\n",
    "from Sonar import StackedAutoEncoderCV as SAE\n",
    "\n",
    "np.set_printoptions(3)\n",
    "\n",
    "base_filename = '../Models/iris_sae_CLASS.jbl'"
   ]
  },
  {
   "cell_type": "markdown",
   "metadata": {},
   "source": [
    "# Load Data "
   ]
  },
  {
   "cell_type": "code",
   "execution_count": 2,
   "metadata": {},
   "outputs": [],
   "source": [
    "dataset = datasets.load_iris()\n",
    "data = dataset.data\n",
    "target = dataset.target\n",
    "class_names = dataset['target_names']"
   ]
  },
  {
   "cell_type": "markdown",
   "metadata": {},
   "source": [
    "# Novelty Definition "
   ]
  },
  {
   "cell_type": "code",
   "execution_count": 3,
   "metadata": {},
   "outputs": [],
   "source": [
    "nov_cls = 0\n",
    "nov_data = data[target == nov_cls]\n",
    "nov_target = target[target == nov_cls]\n",
    "nov_name = class_names[nov_cls]\n",
    "# Known data\n",
    "data = data[target != nov_cls]\n",
    "target = target[target != nov_cls]\n",
    "if np.unique(target).shape[0] == 2:\n",
    "    one_hot_target = np.ones([target.shape[0],1])\n",
    "    one_hot_target[target == np.unique(target)[1], 0] = -1\n",
    "else:\n",
    "    one_hot_target = -np.ones([target.shape[0], np.unique(target).shape[0]])\n",
    "    for i, cls in enumerate(np.unique(target)):\n",
    "        one_hot_target[target == cls, i] = 1\n",
    "class_names = np.setdiff1d(class_names, [nov_name])"
   ]
  },
  {
   "cell_type": "markdown",
   "metadata": {},
   "source": [
    "# Load Models "
   ]
  },
  {
   "cell_type": "code",
   "execution_count": 4,
   "metadata": {},
   "outputs": [
    {
     "name": "stdout",
     "output_type": "stream",
     "text": [
      "Loading from  ../Models/iris_sae_versicolor.jbl\n"
     ]
    },
    {
     "name": "stderr",
     "output_type": "stream",
     "text": [
      "/Users/ciodaro/.virtualenvs/sonar/lib/python2.7/site-packages/keras/models.py:252: UserWarning: No training configuration found in save file: the model was *not* compiled. Compile it manually.\n",
      "  warnings.warn('No training configuration found in save file: '\n"
     ]
    },
    {
     "name": "stdout",
     "output_type": "stream",
     "text": [
      "Loading from  ../Models/iris_sae_virginica.jbl\n"
     ]
    }
   ],
   "source": [
    "autoencoders = {}\n",
    "encoders = {}\n",
    "for cls in class_names:\n",
    "    sae = SAE.StackedAutoEncoderCV()\n",
    "    sae.load(base_filename.replace('CLASS', cls))\n",
    "    autoencoders[cls] = sae.network\n",
    "    encoders[cls] = sae.network.get_encoder()"
   ]
  },
  {
   "cell_type": "code",
   "execution_count": 5,
   "metadata": {},
   "outputs": [
    {
     "name": "stdout",
     "output_type": "stream",
     "text": [
      "Total time:  8.4719350338\n",
      "Result: 0.949 +- 0.043\n",
      "Saving CV to  ../Models/test_network.jbl\n"
     ]
    }
   ],
   "source": [
    "from Sonar import StackedAutoEncoderClassifierCV as SAECCV\n",
    "\n",
    "\n",
    "param_grid = {\n",
    "    'hidden': [3, 4],\n",
    "    'optimizer': ['adam'],\n",
    "    'nepochs': [100],\n",
    "    'batch_size': [100],\n",
    "    'ninit': [1],\n",
    "}\n",
    "\n",
    "seed = 10\n",
    "cvmodel = SAECCV.StackedAutoEncoderClassifierCV(param_grid, nfolds=5, njobs = 2, random_seed = seed)\n",
    "target0_1 = ~(target == np.unique(target)[0])\n",
    "cvmodel.fit(data, target0_1, encoders)\n",
    "cvmodel.save('../Models/test_network.jbl')"
   ]
  },
  {
   "cell_type": "code",
   "execution_count": 7,
   "metadata": {},
   "outputs": [
    {
     "name": "stdout",
     "output_type": "stream",
     "text": [
      "[[47  1]\n",
      " [ 3 49]]\n",
      "             precision    recall  f1-score   support\n",
      "\n",
      "      False       0.94      0.98      0.96        48\n",
      "       True       0.98      0.94      0.96        52\n",
      "\n",
      "avg / total       0.96      0.96      0.96       100\n",
      "\n"
     ]
    }
   ],
   "source": [
    "Y = cvmodel.predict(data)\n",
    "\n",
    "print metrics.confusion_matrix(Y[:,0] > 0, target0_1)\n",
    "print metrics.classification_report(Y[:,0] > 0, target0_1)"
   ]
  },
  {
   "cell_type": "code",
   "execution_count": 8,
   "metadata": {},
   "outputs": [
    {
     "data": {
      "text/plain": [
       "Class\n",
       "Known      AxesSubplot(0.125,0.125;0.775x0.755)\n",
       "Novelty    AxesSubplot(0.125,0.125;0.775x0.755)\n",
       "Name: Output, dtype: object"
      ]
     },
     "execution_count": 8,
     "metadata": {},
     "output_type": "execute_result"
    },
    {
     "data": {
      "image/png": "[encoded data removed]",
      "text/plain": [
       "<matplotlib.figure.Figure at 0x10a273f10>"
      ]
     },
     "metadata": {},
     "output_type": "display_data"
    }
   ],
   "source": [
    "import pandas\n",
    "plt.figure(fig)\n",
    "df_known = pandas.DataFrame(columns=['Class','Output'])\n",
    "df_known['Output'] = np.max(cvmodel.predict(data), axis=1)\n",
    "df_known['Class'] = 'Known'\n",
    "df_nov = pandas.DataFrame(columns=['Class','Output'])\n",
    "df_nov['Output'] = np.max(cvmodel.predict(nov_data), axis=1)\n",
    "df_nov['Class'] = 'Novelty'\n",
    "df = pandas.concat((df_known, df_nov), axis=0)\n",
    "\n",
    "df.groupby('Class').Output.plot(kind='kde')"
   ]
  },
  {
   "cell_type": "code",
   "execution_count": null,
   "metadata": {},
   "outputs": [],
   "source": []
  },
  {
   "cell_type": "code",
   "execution_count": null,
   "metadata": {},
   "outputs": [],
   "source": []
  },
  {
   "cell_type": "code",
   "execution_count": null,
   "metadata": {},
   "outputs": [],
   "source": []
  },
  {
   "cell_type": "markdown",
   "metadata": {},
   "source": [
    "# Add Output Classification Layer "
   ]
  },
  {
   "cell_type": "code",
   "execution_count": 5,
   "metadata": {},
   "outputs": [],
   "source": [
    "common_input = layers.Input(shape = [data.shape[1]])\n",
    "graphs = []\n",
    "for cls in encoders.keys():\n",
    "    gr = common_input\n",
    "    for lay in encoders[cls].layers:\n",
    "        lay.name = 'class_'+ cls + lay.name\n",
    "        lay.trainable = False\n",
    "        gr = lay(gr)\n",
    "    graphs.append(gr)\n",
    "merge_layer = layers.concatenate(graphs, axis=1)\n",
    "hidden_layer = layers.Dense(10, activation='tanh')(merge_layer)\n",
    "out_layer = layers.Dense(one_hot_target.shape[1], activation='tanh')(hidden_layer)\n",
    "new_model = models.Model(inputs=[common_input], outputs=out_layer)\n",
    "opt = optimizers.Adam(lr=0.01, beta_1=0.9, beta_2=0.999, epsilon=1e-08)\n",
    "new_model.compile(loss='mean_squared_error', optimizer=opt)\n",
    "\n",
    "trn_desc = new_model.fit(data, one_hot_target, \n",
    "                         epochs = 200, \n",
    "                         batch_size = 100,\n",
    "                         verbose = False,\n",
    "                         shuffle=False)"
   ]
  },
  {
   "cell_type": "code",
   "execution_count": 6,
   "metadata": {},
   "outputs": [
    {
     "name": "stdout",
     "output_type": "stream",
     "text": [
      "0.94\n",
      "1.0\n",
      "0.97\n"
     ]
    }
   ],
   "source": [
    "Y = new_model.predict(data)\n",
    "Y = Y > 0\n",
    "T = one_hot_target > 0\n",
    "print metrics.accuracy_score(Y[T],T[T])\n",
    "print metrics.accuracy_score(Y[~T],T[~T])\n",
    "print metrics.accuracy_score(Y,T)"
   ]
  },
  {
   "cell_type": "code",
   "execution_count": 7,
   "metadata": {},
   "outputs": [
    {
     "name": "stdout",
     "output_type": "stream",
     "text": [
      "0.03695653870967398\n",
      "0.3851044953470487\n",
      "1.9515768678239573\n"
     ]
    }
   ],
   "source": [
    "clsname = 'versicolor'\n",
    "print metrics.mean_squared_error(autoencoders[clsname].predict(data[target == 1]), data[target == 1])\n",
    "print metrics.mean_squared_error(autoencoders[clsname].predict(data[target == 2]), data[target == 2])\n",
    "print metrics.mean_squared_error(autoencoders[clsname].predict(nov_data), nov_data)"
   ]
  },
  {
   "cell_type": "code",
   "execution_count": 8,
   "metadata": {},
   "outputs": [
    {
     "name": "stdout",
     "output_type": "stream",
     "text": [
      "0.354150642660116\n",
      "0.05558743457556734\n",
      "4.09410697269849\n"
     ]
    }
   ],
   "source": [
    "clsname = 'virginica'\n",
    "print metrics.mean_squared_error(autoencoders[clsname].predict(data[target == 1]), data[target == 1])\n",
    "print metrics.mean_squared_error(autoencoders[clsname].predict(data[target == 2]), data[target == 2])\n",
    "print metrics.mean_squared_error(autoencoders[clsname].predict(nov_data), nov_data)"
   ]
  },
  {
   "cell_type": "code",
   "execution_count": 9,
   "metadata": {},
   "outputs": [
    {
     "data": {
      "text/plain": [
       "[<matplotlib.lines.Line2D at 0x1135f2bd0>]"
      ]
     },
     "execution_count": 9,
     "metadata": {},
     "output_type": "execute_result"
    },
    {
     "data": {
      "image/png": "[encoded data removed]",
      "text/plain": [
       "<matplotlib.figure.Figure at 0x112ca1e10>"
      ]
     },
     "metadata": {},
     "output_type": "display_data"
    }
   ],
   "source": [
    "plt.plot(trn_desc.epoch, trn_desc.history['loss'], '-')"
   ]
  },
  {
   "cell_type": "code",
   "execution_count": 10,
   "metadata": {},
   "outputs": [
    {
     "name": "stdout",
     "output_type": "stream",
     "text": [
      "[[50  3]\n",
      " [ 0 47]]\n",
      "             precision    recall  f1-score   support\n",
      "\n",
      "      False       1.00      0.94      0.97        53\n",
      "       True       0.94      1.00      0.97        47\n",
      "\n",
      "avg / total       0.97      0.97      0.97       100\n",
      "\n"
     ]
    }
   ],
   "source": [
    "Y = new_model.predict(data)\n",
    "print metrics.confusion_matrix(Y > 0, one_hot_target > 0)\n",
    "print metrics.classification_report(Y > 0, one_hot_target > 0)"
   ]
  },
  {
   "cell_type": "code",
   "execution_count": 11,
   "metadata": {},
   "outputs": [
    {
     "data": {
      "text/plain": [
       "Class\n",
       "Known      AxesSubplot(0.125,0.125;0.775x0.755)\n",
       "Novelty    AxesSubplot(0.125,0.125;0.775x0.755)\n",
       "Name: Output, dtype: object"
      ]
     },
     "execution_count": 11,
     "metadata": {},
     "output_type": "execute_result"
    },
    {
     "data": {
      "image/png": "[encoded data removed]",
      "text/plain": [
       "<matplotlib.figure.Figure at 0x114cbce10>"
      ]
     },
     "metadata": {},
     "output_type": "display_data"
    }
   ],
   "source": [
    "Y = new_model.predict(nov_data)\n",
    "Y = np.max(Y, axis=1)\n",
    "\n",
    "import pandas\n",
    "df_known = pandas.DataFrame(columns=['Class','Output'])\n",
    "df_known['Output'] = np.max(new_model.predict(data), axis=1)\n",
    "df_known['Class'] = 'Known'\n",
    "df_nov = pandas.DataFrame(columns=['Class','Output'])\n",
    "df_nov['Output'] = np.max(new_model.predict(nov_data), axis=1)\n",
    "df_nov['Class'] = 'Novelty'\n",
    "df = pandas.concat((df_known, df_nov), axis=0)\n",
    "\n",
    "df.groupby('Class').Output.plot(kind='kde')"
   ]
  },
  {
   "cell_type": "code",
   "execution_count": 18,
   "metadata": {},
   "outputs": [
    {
     "data": {
      "text/plain": [
       "Class\n",
       "Novelty    Axes(0.125,0.125;0.775x0.755)\n",
       "Name: Output, dtype: object"
      ]
     },
     "execution_count": 18,
     "metadata": {},
     "output_type": "execute_result"
    },
    {
     "data": {
      "image/png": "[encoded data removed]",
      "text/plain": [
       "<matplotlib.figure.Figure at 0xe6c9080>"
      ]
     },
     "metadata": {},
     "output_type": "display_data"
    }
   ],
   "source": [
    "df_nov.groupby('Class').Output.plot(kind='kde')"
   ]
  },
  {
   "cell_type": "code",
   "execution_count": 12,
   "metadata": {},
   "outputs": [
    {
     "data": {
      "text/plain": [
       "(-1, 1)"
      ]
     },
     "execution_count": 12,
     "metadata": {},
     "output_type": "execute_result"
    },
    {
     "data": {
      "image/png": "[encoded data removed]",
      "text/plain": [
       "<matplotlib.figure.Figure at 0x112d68250>"
      ]
     },
     "metadata": {},
     "output_type": "display_data"
    }
   ],
   "source": [
    "df_known.groupby('Class').Output.plot(kind='kde')\n",
    "plt.xlim((-1, 1))"
   ]
  },
  {
   "cell_type": "markdown",
   "metadata": {},
   "source": [
    "# Test With Classifier Class "
   ]
  },
  {
   "cell_type": "code",
   "execution_count": 5,
   "metadata": {},
   "outputs": [
    {
     "name": "stdout",
     "output_type": "stream",
     "text": [
      "['loss']\n",
      "Final Classification Accuracy (training)  : 1.005e-01\n",
      "Training took 1 s\n"
     ]
    }
   ],
   "source": [
    "from Sonar import StackedAutoEncoderClassifier as SAEC\n",
    "\n",
    "\n",
    "netclf = SAEC.StackedAutoEncoderClassifier(hidden = 10, optimizer = 'adam', nepochs = 200,\n",
    "                                           batch_size=100, ninit = 1, verbose=True)\n",
    "netclf.fit(data, one_hot_target, encoders)"
   ]
  },
  {
   "cell_type": "code",
   "execution_count": 6,
   "metadata": {},
   "outputs": [
    {
     "data": {
      "text/plain": [
       "[<matplotlib.lines.Line2D at 0x10ca36e90>]"
      ]
     },
     "execution_count": 6,
     "metadata": {},
     "output_type": "execute_result"
    },
    {
     "data": {
      "image/png": "[encoded data removed]",
      "text/plain": [
       "<matplotlib.figure.Figure at 0x107a524d0>"
      ]
     },
     "metadata": {},
     "output_type": "display_data"
    }
   ],
   "source": [
    "plt.plot(netclf.trn_info['epochs'], netclf.trn_info['loss'], '-')"
   ]
  },
  {
   "cell_type": "code",
   "execution_count": 7,
   "metadata": {},
   "outputs": [
    {
     "name": "stdout",
     "output_type": "stream",
     "text": [
      "[[50  3]\n",
      " [ 0 47]]\n",
      "             precision    recall  f1-score   support\n",
      "\n",
      "      False       1.00      0.94      0.97        53\n",
      "       True       0.94      1.00      0.97        47\n",
      "\n",
      "avg / total       0.97      0.97      0.97       100\n",
      "\n"
     ]
    }
   ],
   "source": [
    "Y = netclf.predict(data)\n",
    "print metrics.confusion_matrix(Y > 0, one_hot_target > 0)\n",
    "print metrics.classification_report(Y > 0, one_hot_target > 0)"
   ]
  },
  {
   "cell_type": "code",
   "execution_count": 8,
   "metadata": {},
   "outputs": [
    {
     "data": {
      "text/plain": [
       "'../Models/test_network_h10'"
      ]
     },
     "execution_count": 8,
     "metadata": {},
     "output_type": "execute_result"
    }
   ],
   "source": [
    "netclf.label = 'h10'\n",
    "netclf.save('../Models/test_network')"
   ]
  },
  {
   "cell_type": "code",
   "execution_count": 9,
   "metadata": {},
   "outputs": [
    {
     "name": "stdout",
     "output_type": "stream",
     "text": [
      "[[50  3]\n",
      " [ 0 47]]\n",
      "             precision    recall  f1-score   support\n",
      "\n",
      "      False       1.00      0.94      0.97        53\n",
      "       True       0.94      1.00      0.97        47\n",
      "\n",
      "avg / total       0.97      0.97      0.97       100\n",
      "\n"
     ]
    }
   ],
   "source": [
    "nnet = SAEC.StackedAutoEncoderClassifier()\n",
    "nnet.load('../Models/test_network_h10')\n",
    "Y = netclf.predict(data)\n",
    "print metrics.confusion_matrix(Y > 0, one_hot_target > 0)\n",
    "print metrics.classification_report(Y > 0, one_hot_target > 0)"
   ]
  },
  {
   "cell_type": "markdown",
   "metadata": {
    "collapsed": true
   },
   "source": [
    "# Test With CV"
   ]
  },
  {
   "cell_type": "code",
   "execution_count": 5,
   "metadata": {},
   "outputs": [
    {
     "ename": "ValueError",
     "evalue": "Found input variables with inconsistent numbers of samples: [100, 100, 1]",
     "output_type": "error",
     "traceback": [
      "\u001b[0;31m---------------------------------------------------------------------------\u001b[0m",
      "\u001b[0;31mValueError\u001b[0m                                Traceback (most recent call last)",
      "\u001b[0;32m<ipython-input-5-c8470fb09874>\u001b[0m in \u001b[0;36m<module>\u001b[0;34m()\u001b[0m\n\u001b[1;32m     11\u001b[0m \u001b[0mseed\u001b[0m \u001b[0;34m=\u001b[0m \u001b[0;36m10\u001b[0m\u001b[0;34m\u001b[0m\u001b[0m\n\u001b[1;32m     12\u001b[0m \u001b[0mcvmodel\u001b[0m \u001b[0;34m=\u001b[0m \u001b[0mSAECCV\u001b[0m\u001b[0;34m.\u001b[0m\u001b[0mStackedAutoEncoderClassifierCV\u001b[0m\u001b[0;34m(\u001b[0m\u001b[0mparam_grid\u001b[0m\u001b[0;34m,\u001b[0m \u001b[0mnfolds\u001b[0m\u001b[0;34m=\u001b[0m\u001b[0;36m5\u001b[0m\u001b[0;34m,\u001b[0m \u001b[0mnjobs\u001b[0m \u001b[0;34m=\u001b[0m \u001b[0;36m2\u001b[0m\u001b[0;34m,\u001b[0m \u001b[0mrandom_seed\u001b[0m \u001b[0;34m=\u001b[0m \u001b[0mseed\u001b[0m\u001b[0;34m)\u001b[0m\u001b[0;34m\u001b[0m\u001b[0m\n\u001b[0;32m---> 13\u001b[0;31m \u001b[0mcvmodel\u001b[0m\u001b[0;34m.\u001b[0m\u001b[0mfit\u001b[0m\u001b[0;34m(\u001b[0m\u001b[0mdata\u001b[0m\u001b[0;34m,\u001b[0m \u001b[0mone_hot_target\u001b[0m\u001b[0;34m,\u001b[0m \u001b[0mencoders\u001b[0m\u001b[0;34m)\u001b[0m\u001b[0;34m\u001b[0m\u001b[0m\n\u001b[0m\u001b[1;32m     14\u001b[0m \u001b[0mcvmodel\u001b[0m\u001b[0;34m.\u001b[0m\u001b[0msave\u001b[0m\u001b[0;34m(\u001b[0m\u001b[0;34m'../Models/test_network.jbl'\u001b[0m\u001b[0;34m)\u001b[0m\u001b[0;34m\u001b[0m\u001b[0m\n",
      "\u001b[0;32m/Users/ciodaro/Projects/Sonar/sonar-analysis/ipynb/Sonar/StackedAutoEncoderClassifierCV.py\u001b[0m in \u001b[0;36mfit\u001b[0;34m(self, data, target, encoders)\u001b[0m\n\u001b[1;32m     42\u001b[0m                                                        'recall': SAE.RecallScorer},\n\u001b[1;32m     43\u001b[0m                                             refit = 'sp')\n\u001b[0;32m---> 44\u001b[0;31m         \u001b[0mgrid\u001b[0m\u001b[0;34m.\u001b[0m\u001b[0mfit\u001b[0m\u001b[0;34m(\u001b[0m\u001b[0mdata\u001b[0m\u001b[0;34m,\u001b[0m \u001b[0mtarget\u001b[0m\u001b[0;34m,\u001b[0m \u001b[0;34m{\u001b[0m\u001b[0;34m'encoders'\u001b[0m\u001b[0;34m:\u001b[0m \u001b[0mencoders\u001b[0m\u001b[0;34m}\u001b[0m\u001b[0;34m)\u001b[0m\u001b[0;34m\u001b[0m\u001b[0m\n\u001b[0m\u001b[1;32m     45\u001b[0m         \u001b[0;31m# Find the best CV\u001b[0m\u001b[0;34m\u001b[0m\u001b[0;34m\u001b[0m\u001b[0m\n\u001b[1;32m     46\u001b[0m         \u001b[0micv\u001b[0m \u001b[0;34m=\u001b[0m \u001b[0;34m-\u001b[0m\u001b[0;36m1\u001b[0m\u001b[0;34m\u001b[0m\u001b[0m\n",
      "\u001b[0;32m/Users/ciodaro/.virtualenvs/sonar/lib/python2.7/site-packages/sklearn/model_selection/_search.pyc\u001b[0m in \u001b[0;36mfit\u001b[0;34m(self, X, y, groups, **fit_params)\u001b[0m\n\u001b[1;32m    613\u001b[0m             \u001b[0mrefit_metric\u001b[0m \u001b[0;34m=\u001b[0m \u001b[0;34m'score'\u001b[0m\u001b[0;34m\u001b[0m\u001b[0m\n\u001b[1;32m    614\u001b[0m \u001b[0;34m\u001b[0m\u001b[0m\n\u001b[0;32m--> 615\u001b[0;31m         \u001b[0mX\u001b[0m\u001b[0;34m,\u001b[0m \u001b[0my\u001b[0m\u001b[0;34m,\u001b[0m \u001b[0mgroups\u001b[0m \u001b[0;34m=\u001b[0m \u001b[0mindexable\u001b[0m\u001b[0;34m(\u001b[0m\u001b[0mX\u001b[0m\u001b[0;34m,\u001b[0m \u001b[0my\u001b[0m\u001b[0;34m,\u001b[0m \u001b[0mgroups\u001b[0m\u001b[0;34m)\u001b[0m\u001b[0;34m\u001b[0m\u001b[0m\n\u001b[0m\u001b[1;32m    616\u001b[0m         \u001b[0mn_splits\u001b[0m \u001b[0;34m=\u001b[0m \u001b[0mcv\u001b[0m\u001b[0;34m.\u001b[0m\u001b[0mget_n_splits\u001b[0m\u001b[0;34m(\u001b[0m\u001b[0mX\u001b[0m\u001b[0;34m,\u001b[0m \u001b[0my\u001b[0m\u001b[0;34m,\u001b[0m \u001b[0mgroups\u001b[0m\u001b[0;34m)\u001b[0m\u001b[0;34m\u001b[0m\u001b[0m\n\u001b[1;32m    617\u001b[0m         \u001b[0;31m# Regenerate parameter iterable for each fit\u001b[0m\u001b[0;34m\u001b[0m\u001b[0;34m\u001b[0m\u001b[0m\n",
      "\u001b[0;32m/Users/ciodaro/.virtualenvs/sonar/lib/python2.7/site-packages/sklearn/utils/validation.pyc\u001b[0m in \u001b[0;36mindexable\u001b[0;34m(*iterables)\u001b[0m\n\u001b[1;32m    227\u001b[0m         \u001b[0;32melse\u001b[0m\u001b[0;34m:\u001b[0m\u001b[0;34m\u001b[0m\u001b[0m\n\u001b[1;32m    228\u001b[0m             \u001b[0mresult\u001b[0m\u001b[0;34m.\u001b[0m\u001b[0mappend\u001b[0m\u001b[0;34m(\u001b[0m\u001b[0mnp\u001b[0m\u001b[0;34m.\u001b[0m\u001b[0marray\u001b[0m\u001b[0;34m(\u001b[0m\u001b[0mX\u001b[0m\u001b[0;34m)\u001b[0m\u001b[0;34m)\u001b[0m\u001b[0;34m\u001b[0m\u001b[0m\n\u001b[0;32m--> 229\u001b[0;31m     \u001b[0mcheck_consistent_length\u001b[0m\u001b[0;34m(\u001b[0m\u001b[0;34m*\u001b[0m\u001b[0mresult\u001b[0m\u001b[0;34m)\u001b[0m\u001b[0;34m\u001b[0m\u001b[0m\n\u001b[0m\u001b[1;32m    230\u001b[0m     \u001b[0;32mreturn\u001b[0m \u001b[0mresult\u001b[0m\u001b[0;34m\u001b[0m\u001b[0m\n\u001b[1;32m    231\u001b[0m \u001b[0;34m\u001b[0m\u001b[0m\n",
      "\u001b[0;32m/Users/ciodaro/.virtualenvs/sonar/lib/python2.7/site-packages/sklearn/utils/validation.pyc\u001b[0m in \u001b[0;36mcheck_consistent_length\u001b[0;34m(*arrays)\u001b[0m\n\u001b[1;32m    202\u001b[0m     \u001b[0;32mif\u001b[0m \u001b[0mlen\u001b[0m\u001b[0;34m(\u001b[0m\u001b[0muniques\u001b[0m\u001b[0;34m)\u001b[0m \u001b[0;34m>\u001b[0m \u001b[0;36m1\u001b[0m\u001b[0;34m:\u001b[0m\u001b[0;34m\u001b[0m\u001b[0m\n\u001b[1;32m    203\u001b[0m         raise ValueError(\"Found input variables with inconsistent numbers of\"\n\u001b[0;32m--> 204\u001b[0;31m                          \" samples: %r\" % [int(l) for l in lengths])\n\u001b[0m\u001b[1;32m    205\u001b[0m \u001b[0;34m\u001b[0m\u001b[0m\n\u001b[1;32m    206\u001b[0m \u001b[0;34m\u001b[0m\u001b[0m\n",
      "\u001b[0;31mValueError\u001b[0m: Found input variables with inconsistent numbers of samples: [100, 100, 1]"
     ]
    }
   ],
   "source": [
    "from Sonar import StackedAutoEncoderClassifierCV as SAECCV\n",
    "\n",
    "\n",
    "param_grid = {\n",
    "    'hidden': [4],\n",
    "    'optimizer': ['adam'],\n",
    "    'nepochs': [100],\n",
    "    'batch_size': [100],\n",
    "    'ninit': [1],\n",
    "}\n",
    "seed = 10\n",
    "cvmodel = SAECCV.StackedAutoEncoderClassifierCV(param_grid, nfolds=5, njobs = 2, random_seed = seed)\n",
    "cvmodel.fit(data, one_hot_target, encoders)\n",
    "cvmodel.save('../Models/test_network.jbl')"
   ]
  },
  {
   "cell_type": "code",
   "execution_count": 7,
   "metadata": {},
   "outputs": [
    {
     "name": "stdout",
     "output_type": "stream",
     "text": [
      "(100, 4)\n"
     ]
    }
   ],
   "source": [
    "print data.shape"
   ]
  },
  {
   "cell_type": "code",
   "execution_count": null,
   "metadata": {},
   "outputs": [],
   "source": []
  },
  {
   "cell_type": "code",
   "execution_count": null,
   "metadata": {},
   "outputs": [],
   "source": []
  }
 ],
 "metadata": {
  "kernelspec": {
   "display_name": "Python 2",
   "language": "python",
   "name": "python2"
  },
  "language_info": {
   "codemirror_mode": {
    "name": "ipython",
    "version": 2
   },
   "file_extension": ".py",
   "mimetype": "text/x-python",
   "name": "python",
   "nbconvert_exporter": "python",
   "pygments_lexer": "ipython2",
   "version": "2.7.10"
  }
 },
 "nbformat": 4,
 "nbformat_minor": 2
}
