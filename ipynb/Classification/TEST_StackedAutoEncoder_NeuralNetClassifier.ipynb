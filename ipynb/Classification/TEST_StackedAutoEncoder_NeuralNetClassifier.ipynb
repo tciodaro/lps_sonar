{
 "cells": [
  {
   "cell_type": "code",
   "execution_count": 125,
   "metadata": {},
   "outputs": [],
   "source": [
    "import numpy as np\n",
    "import time\n",
    "from sklearn.externals import joblib\n",
    "from sklearn import model_selection\n",
    "import itertools\n",
    "from sklearn import datasets\n",
    "from sklearn import preprocessing\n",
    "from sklearn import metrics\n",
    "\n",
    "\n",
    "from keras import models\n",
    "from keras import layers\n",
    "from keras import optimizers\n",
    "from keras import callbacks\n",
    "from keras import backend\n",
    "\n",
    "import matplotlib.pyplot as plt\n",
    "%matplotlib inline\n",
    "\n",
    "import sys\n",
    "sys.path.append('../')\n",
    "\n",
    "from Sonar import StackedAutoEncoderCV as SAE\n",
    "\n",
    "np.set_printoptions(3)\n",
    "\n",
    "base_filename = '../Models/iris_sae_CLASS.jbl'"
   ]
  },
  {
   "cell_type": "markdown",
   "metadata": {},
   "source": [
    "# Load Data "
   ]
  },
  {
   "cell_type": "code",
   "execution_count": 186,
   "metadata": {},
   "outputs": [],
   "source": [
    "dataset = datasets.load_iris()\n",
    "data = dataset.data\n",
    "target = dataset.target\n",
    "class_names = dataset['target_names']"
   ]
  },
  {
   "cell_type": "markdown",
   "metadata": {},
   "source": [
    "# Novelty Definition "
   ]
  },
  {
   "cell_type": "code",
   "execution_count": 187,
   "metadata": {},
   "outputs": [],
   "source": [
    "nov_cls = 1\n",
    "nov_data = data[target == nov_cls]\n",
    "nov_target = target[target == nov_cls]\n",
    "nov_name = class_names[nov_cls]\n",
    "# Known data\n",
    "data = data[target != nov_cls]\n",
    "target = target[target != nov_cls]\n",
    "one_hot_target = -np.ones([target.shape[0], np.unique(target).shape[0]])\n",
    "for i, cls in enumerate(np.unique(target)):\n",
    "    one_hot_target[target == cls, i] = 1\n",
    "class_names = np.setdiff1d(class_names, [nov_name])"
   ]
  },
  {
   "cell_type": "markdown",
   "metadata": {},
   "source": [
    "# Load Models "
   ]
  },
  {
   "cell_type": "code",
   "execution_count": 248,
   "metadata": {},
   "outputs": [
    {
     "name": "stdout",
     "output_type": "stream",
     "text": [
      "Loading from  ../Models/iris_sae_setosa.jbl\n",
      "Loading from  ../Models/iris_sae_virginica.jbl\n"
     ]
    }
   ],
   "source": [
    "autoencoders = {}\n",
    "encoders = {}\n",
    "scalers = {}\n",
    "for cls in class_names:\n",
    "    sae = SAE.StackedAutoEncoderCV()\n",
    "    sae.load(base_filename.replace('CLASS', cls))\n",
    "    autoencoders[cls] = sae.network\n",
    "    encoders[cls] = sae.network.get_encoder()\n",
    "    scalers[cls] = sae.network.scaler"
   ]
  },
  {
   "cell_type": "markdown",
   "metadata": {},
   "source": [
    "# Add Output Classification Layer "
   ]
  },
  {
   "cell_type": "code",
   "execution_count": 246,
   "metadata": {},
   "outputs": [
    {
     "name": "stdout",
     "output_type": "stream",
     "text": [
      "[[0.373 0.26 ]]\n",
      "[[0.373 0.26 ]]\n"
     ]
    }
   ],
   "source": [
    "print autoencoders['setosa'].encode(data[0:1])\n",
    "s = scalers['setosa'].scale_\n",
    "m = scalers['setosa'].mean_\n",
    "W = encoders['setosa'].layers[0].get_weights()[0]\n",
    "B = encoders['setosa'].layers[0].get_weights()[1]\n",
    "encoders['setosa'].layers[0].set_weights( (W / s.reshape((s.shape[0],1)), B - np.dot(W.T,(m/s))))\n",
    "#enc = backend.function([encoders['setosa'].layers[0].input],[encoders['setosa'].layers[-1].output])\n",
    "enc = backend.function([encoders['setosa'].layers[0].get_input_at(0)],[encoders['setosa'].layers[-1].get_output_at(0)])\n",
    "print enc([data[0:1]])[0]"
   ]
  },
  {
   "cell_type": "code",
   "execution_count": 249,
   "metadata": {},
   "outputs": [
    {
     "name": "stdout",
     "output_type": "stream",
     "text": [
      "[[5.146 3.475 1.484 0.176]]\n",
      "[[5.146 3.475 1.484 0.176]]\n"
     ]
    }
   ],
   "source": [
    "print autoencoders['setosa'].predict(data[0:1])\n",
    "\n",
    "s = scalers['setosa'].scale_\n",
    "m = scalers['setosa'].mean_\n",
    "W = autoencoders['setosa'].get_auto_encoder().layers[0].get_weights()[0]\n",
    "B = autoencoders['setosa'].get_auto_encoder().layers[0].get_weights()[1]\n",
    "autoencoders['setosa'].get_auto_encoder().layers[0].set_weights( (W / s.reshape((s.shape[0],1)), B - np.dot(W.T,(m/s))))\n",
    "\n",
    "\n",
    "W = autoencoders['setosa'].get_auto_encoder().layers[-1].get_weights()[0]\n",
    "B = autoencoders['setosa'].get_auto_encoder().layers[-1].get_weights()[1]\n",
    "autoencoders['setosa'].get_auto_encoder().layers[-1].set_weights((W * s, B*s + m))\n",
    "enc = backend.function([autoencoders['setosa'].get_auto_encoder().layers[0].get_input_at(0)],\n",
    "                       [autoencoders['setosa'].get_auto_encoder().layers[-1].get_output_at(0)])\n",
    "print enc([data[0:1]])[0]"
   ]
  },
  {
   "cell_type": "code",
   "execution_count": 183,
   "metadata": {},
   "outputs": [],
   "source": [
    "# Incorporate Scaling to the first layer of each encoder\n",
    "for cls in class_names: \n",
    "    s = scalers[cls].scale_\n",
    "    m = scalers[cls].mean_\n",
    "    W = encoders[cls].layers[0].get_weights()[0]\n",
    "    B = encoders[cls].layers[0].get_weights()[1]\n",
    "    encoders[cls].layers[0].set_weights((W / s.reshape((s.shape[0],1)), B - np.dot(W.T,(m/s))))\n",
    "\n",
    "common_input = layers.Input(shape = [data.shape[1]])\n",
    "graph_a = common_input\n",
    "for lay in encoders['setosa'].layers:\n",
    "    lay.name = 'setosa_' + lay.name\n",
    "    lay.trainable = False\n",
    "    graph_a = lay(graph_a)\n",
    "graph_b = common_input\n",
    "for lay in encoders['virginica'].layers:\n",
    "    lay.name = 'virginica_' + lay.name\n",
    "    lay.trainable = False\n",
    "    graph_b = lay(graph_b)\n",
    "\n",
    "merge_layer = layers.concatenate([graph_a, graph_b], axis=1)\n",
    "hidden_layer = layers.Dense(10, activation='tanh')(merge_layer)\n",
    "out_layer = layers.Dense(one_hot_target.shape[1], activation='tanh')(hidden_layer)\n",
    "new_model = models.Model(inputs=[common_input], outputs=out_layer)\n",
    "opt = optimizers.Adam(lr=0.01, beta_1=0.9, beta_2=0.999, epsilon=1e-08)\n",
    "new_model.compile(loss='mean_squared_error', optimizer=opt)\n",
    "\n",
    "trn_desc = new_model.fit(data, one_hot_target, \n",
    "                         epochs = 200, \n",
    "                         batch_size = 100,\n",
    "                         verbose = False,\n",
    "                         shuffle=False)"
   ]
  },
  {
   "cell_type": "code",
   "execution_count": 225,
   "metadata": {},
   "outputs": [
    {
     "data": {
      "text/plain": [
       "{'activation': 'linear',\n",
       " 'activity_regularizer': None,\n",
       " 'batch_input_shape': (None, 10),\n",
       " 'bias_constraint': None,\n",
       " 'bias_initializer': {'class_name': 'Zeros', 'config': {}},\n",
       " 'bias_regularizer': None,\n",
       " 'dtype': u'float32',\n",
       " 'kernel_constraint': None,\n",
       " 'kernel_initializer': {'class_name': 'RandomUniform',\n",
       "  'config': {'maxval': 0.05, 'minval': -0.05, 'seed': None}},\n",
       " 'kernel_regularizer': None,\n",
       " 'name': u'dense_66',\n",
       " 'trainable': True,\n",
       " 'units': 4,\n",
       " 'use_bias': True}"
      ]
     },
     "execution_count": 225,
     "metadata": {},
     "output_type": "execute_result"
    }
   ],
   "source": []
  },
  {
   "cell_type": "code",
   "execution_count": 191,
   "metadata": {},
   "outputs": [
    {
     "data": {
      "text/plain": [
       "[<matplotlib.lines.Line2D at 0x10a9b3f10>]"
      ]
     },
     "execution_count": 191,
     "metadata": {},
     "output_type": "execute_result"
    },
    {
     "data": {
      "image/png": "[encoded data removed]",
      "text/plain": [
       "<matplotlib.figure.Figure at 0x109b107d0>"
      ]
     },
     "metadata": {},
     "output_type": "display_data"
    }
   ],
   "source": [
    "plt.plot(trn_desc.epoch, trn_desc.history['loss'], '-')"
   ]
  },
  {
   "cell_type": "code",
   "execution_count": 233,
   "metadata": {},
   "outputs": [
    {
     "ename": "AttributeError",
     "evalue": "'StackedAutoEncoder' object has no attribute 'get_autoencoder'",
     "output_type": "error",
     "traceback": [
      "\u001b[0;31m---------------------------------------------------------------------------\u001b[0m",
      "\u001b[0;31mAttributeError\u001b[0m                            Traceback (most recent call last)",
      "\u001b[0;32m<ipython-input-233-1c435e8e2ad8>\u001b[0m in \u001b[0;36m<module>\u001b[0;34m()\u001b[0m\n\u001b[0;32m----> 1\u001b[0;31m \u001b[0mx\u001b[0m\u001b[0;34m.\u001b[0m\u001b[0mget_autoencoder\u001b[0m\u001b[0;34m(\u001b[0m\u001b[0;34m)\u001b[0m\u001b[0;34m\u001b[0m\u001b[0m\n\u001b[0m",
      "\u001b[0;31mAttributeError\u001b[0m: 'StackedAutoEncoder' object has no attribute 'get_autoencoder'"
     ]
    }
   ],
   "source": [
    "x.get_auto_encoder\n"
   ]
  },
  {
   "cell_type": "code",
   "execution_count": 201,
   "metadata": {},
   "outputs": [
    {
     "name": "stdout",
     "output_type": "stream",
     "text": [
      "[[48  1]\n",
      " [ 2 49]]\n",
      "             precision    recall  f1-score   support\n",
      "\n",
      "          0       0.96      0.98      0.97        49\n",
      "          1       0.98      0.96      0.97        51\n",
      "\n",
      "avg / total       0.97      0.97      0.97       100\n",
      "\n"
     ]
    }
   ],
   "source": [
    "Y = new_model.predict(data)\n",
    "print metrics.confusion_matrix(np.argmax(Y, axis=1), np.argmax(one_hot_target, axis=1))\n",
    "print metrics.classification_report(np.argmax(Y, axis=1), np.argmax(one_hot_target, axis=1))"
   ]
  },
  {
   "cell_type": "code",
   "execution_count": 212,
   "metadata": {},
   "outputs": [
    {
     "data": {
      "text/plain": [
       "Class\n",
       "Known      AxesSubplot(0.125,0.125;0.775x0.755)\n",
       "Novelty    AxesSubplot(0.125,0.125;0.775x0.755)\n",
       "Name: Output, dtype: object"
      ]
     },
     "execution_count": 212,
     "metadata": {},
     "output_type": "execute_result"
    },
    {
     "data": {
      "image/png": "[encoded data removed]",
      "text/plain": [
       "<matplotlib.figure.Figure at 0x10a857650>"
      ]
     },
     "metadata": {},
     "output_type": "display_data"
    }
   ],
   "source": [
    "Y = new_model.predict(nov_data)\n",
    "Y = np.max(Y, axis=1)\n",
    "\n",
    "import pandas\n",
    "df_known = pandas.DataFrame(columns=['Class','Output'])\n",
    "df_known['Output'] = np.max(new_model.predict(data), axis=1)\n",
    "df_known['Class'] = 'Known'\n",
    "df_nov = pandas.DataFrame(columns=['Class','Output'])\n",
    "df_nov['Output'] = np.max(new_model.predict(nov_data), axis=1)\n",
    "df_nov['Class'] = 'Novelty'\n",
    "df = pandas.concat((df_known, df_nov), axis=0)\n",
    "\n",
    "df.groupby('Class').Output.plot(kind='kde')"
   ]
  },
  {
   "cell_type": "code",
   "execution_count": null,
   "metadata": {},
   "outputs": [],
   "source": []
  },
  {
   "cell_type": "code",
   "execution_count": null,
   "metadata": {},
   "outputs": [],
   "source": []
  },
  {
   "cell_type": "code",
   "execution_count": null,
   "metadata": {},
   "outputs": [],
   "source": []
  },
  {
   "cell_type": "code",
   "execution_count": null,
   "metadata": {},
   "outputs": [],
   "source": []
  }
 ],
 "metadata": {
  "kernelspec": {
   "display_name": "Python 2",
   "language": "python",
   "name": "python2"
  },
  "language_info": {
   "codemirror_mode": {
    "name": "ipython",
    "version": 2
   },
   "file_extension": ".py",
   "mimetype": "text/x-python",
   "name": "python",
   "nbconvert_exporter": "python",
   "pygments_lexer": "ipython2",
   "version": "2.7.10"
  }
 },
 "nbformat": 4,
 "nbformat_minor": 2
}
