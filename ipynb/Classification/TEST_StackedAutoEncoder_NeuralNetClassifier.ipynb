{
 "cells": [
  {
   "cell_type": "code",
   "execution_count": 1,
   "metadata": {},
   "outputs": [
    {
     "name": "stderr",
     "output_type": "stream",
     "text": [
      "/Users/ciodaro/.virtualenvs/sonar/lib/python2.7/site-packages/h5py/__init__.py:36: FutureWarning: Conversion of the second argument of issubdtype from `float` to `np.floating` is deprecated. In future, it will be treated as `np.float64 == np.dtype(float).type`.\n",
      "  from ._conv import register_converters as _register_converters\n",
      "Using Theano backend.\n"
     ]
    }
   ],
   "source": [
    "import numpy as np\n",
    "import time\n",
    "from sklearn.externals import joblib\n",
    "from sklearn import model_selection\n",
    "import itertools\n",
    "from sklearn import datasets\n",
    "from sklearn import preprocessing\n",
    "from sklearn import metrics\n",
    "\n",
    "\n",
    "from keras import models\n",
    "from keras import layers\n",
    "from keras import optimizers\n",
    "from keras import callbacks\n",
    "from keras import backend\n",
    "\n",
    "import matplotlib.pyplot as plt\n",
    "%matplotlib inline\n",
    "\n",
    "import sys\n",
    "sys.path.append('../')\n",
    "\n",
    "from Sonar import StackedAutoEncoderCV as SAE\n",
    "\n",
    "np.set_printoptions(3)\n",
    "\n",
    "base_filename = '../Models/iris_sae_CLASS.jbl'"
   ]
  },
  {
   "cell_type": "markdown",
   "metadata": {},
   "source": [
    "# Load Data "
   ]
  },
  {
   "cell_type": "code",
   "execution_count": 22,
   "metadata": {},
   "outputs": [],
   "source": [
    "dataset = datasets.load_iris()\n",
    "data = dataset.data\n",
    "target = dataset.target\n",
    "class_names = dataset['target_names']"
   ]
  },
  {
   "cell_type": "markdown",
   "metadata": {},
   "source": [
    "# Novelty Definition "
   ]
  },
  {
   "cell_type": "code",
   "execution_count": 23,
   "metadata": {},
   "outputs": [],
   "source": [
    "nov_cls = 0\n",
    "nov_data = data[target == nov_cls]\n",
    "nov_target = target[target == nov_cls]\n",
    "nov_name = class_names[nov_cls]\n",
    "# Known data\n",
    "data = data[target != nov_cls]\n",
    "target = target[target != nov_cls]\n",
    "if np.unique(target).shape[0] == 2:\n",
    "    one_hot_target = np.ones([target.shape[0],1])\n",
    "    one_hot_target[target == np.unique(target)[1], 0] = -1\n",
    "else:\n",
    "    one_hot_target = -np.ones([target.shape[0], np.unique(target).shape[0]])\n",
    "    for i, cls in enumerate(np.unique(target)):\n",
    "        one_hot_target[target == cls, i] = 1\n",
    "class_names = np.setdiff1d(class_names, [nov_name])"
   ]
  },
  {
   "cell_type": "markdown",
   "metadata": {},
   "source": [
    "# Load Models "
   ]
  },
  {
   "cell_type": "code",
   "execution_count": 24,
   "metadata": {},
   "outputs": [
    {
     "name": "stdout",
     "output_type": "stream",
     "text": [
      "Loading from  ../Models/iris_sae_versicolor.jbl\n",
      "Loading from  ../Models/iris_sae_virginica.jbl\n"
     ]
    }
   ],
   "source": [
    "autoencoders = {}\n",
    "encoders = {}\n",
    "for cls in class_names:\n",
    "    sae = SAE.StackedAutoEncoderCV()\n",
    "    sae.load(base_filename.replace('CLASS', cls))\n",
    "    autoencoders[cls] = sae.network\n",
    "    encoders[cls] = sae.network.get_encoder()"
   ]
  },
  {
   "cell_type": "markdown",
   "metadata": {},
   "source": [
    "# Add Output Classification Layer "
   ]
  },
  {
   "cell_type": "code",
   "execution_count": 25,
   "metadata": {},
   "outputs": [],
   "source": [
    "common_input = layers.Input(shape = [data.shape[1]])\n",
    "graph_a = common_input\n",
    "for lay in encoders['virginica'].layers:\n",
    "    lay.name = 'virginica_' + lay.name\n",
    "    lay.trainable = False\n",
    "    graph_a = lay(graph_a)\n",
    "graph_b = common_input\n",
    "for lay in encoders['versicolor'].layers:\n",
    "    lay.name = 'versicolor_' + lay.name\n",
    "    lay.trainable = False\n",
    "    graph_b = lay(graph_b)\n",
    "\n",
    "merge_layer = layers.concatenate([graph_a, graph_b], axis=1)\n",
    "hidden_layer = layers.Dense(10, activation='tanh')(merge_layer)\n",
    "out_layer = layers.Dense(one_hot_target.shape[1], activation='tanh')(hidden_layer)\n",
    "new_model = models.Model(inputs=[common_input], outputs=out_layer)\n",
    "opt = optimizers.Adam(lr=0.01, beta_1=0.9, beta_2=0.999, epsilon=1e-08)\n",
    "new_model.compile(loss='mean_squared_error', optimizer=opt)\n",
    "\n",
    "trn_desc = new_model.fit(data, one_hot_target, \n",
    "                         epochs = 200, \n",
    "                         batch_size = 100,\n",
    "                         verbose = False,\n",
    "                         shuffle=False)"
   ]
  },
  {
   "cell_type": "code",
   "execution_count": 13,
   "metadata": {},
   "outputs": [
    {
     "data": {
      "text/plain": [
       "array(['versicolor', 'virginica'], dtype='|S10')"
      ]
     },
     "execution_count": 13,
     "metadata": {},
     "output_type": "execute_result"
    }
   ],
   "source": [
    "class_names"
   ]
  },
  {
   "cell_type": "code",
   "execution_count": 26,
   "metadata": {},
   "outputs": [
    {
     "name": "stdout",
     "output_type": "stream",
     "text": [
      "0.03695653870967398\n",
      "0.3851044953470487\n",
      "1.9515768678239573\n"
     ]
    }
   ],
   "source": [
    "clsname = 'versicolor'\n",
    "print metrics.mean_squared_error(autoencoders[clsname].predict(data[target == 1]), data[target == 1])\n",
    "print metrics.mean_squared_error(autoencoders[clsname].predict(data[target == 2]), data[target == 2])\n",
    "print metrics.mean_squared_error(autoencoders[clsname].predict(nov_data), nov_data)"
   ]
  },
  {
   "cell_type": "code",
   "execution_count": 27,
   "metadata": {},
   "outputs": [
    {
     "name": "stdout",
     "output_type": "stream",
     "text": [
      "0.354150642660116\n",
      "0.05558743457556734\n",
      "4.09410697269849\n"
     ]
    }
   ],
   "source": [
    "clsname = 'virginica'\n",
    "print metrics.mean_squared_error(autoencoders[clsname].predict(data[target == 1]), data[target == 1])\n",
    "print metrics.mean_squared_error(autoencoders[clsname].predict(data[target == 2]), data[target == 2])\n",
    "print metrics.mean_squared_error(autoencoders[clsname].predict(nov_data), nov_data)"
   ]
  },
  {
   "cell_type": "code",
   "execution_count": 28,
   "metadata": {},
   "outputs": [
    {
     "data": {
      "text/plain": [
       "[<matplotlib.lines.Line2D at 0x10a8c4a90>]"
      ]
     },
     "execution_count": 28,
     "metadata": {},
     "output_type": "execute_result"
    },
    {
     "data": {
      "image/png": "[encoded data removed]",
      "text/plain": [
       "<matplotlib.figure.Figure at 0x109e6bd50>"
      ]
     },
     "metadata": {},
     "output_type": "display_data"
    }
   ],
   "source": [
    "plt.plot(trn_desc.epoch, trn_desc.history['loss'], '-')"
   ]
  },
  {
   "cell_type": "code",
   "execution_count": 29,
   "metadata": {},
   "outputs": [
    {
     "name": "stdout",
     "output_type": "stream",
     "text": [
      "[[100]]\n",
      "             precision    recall  f1-score   support\n",
      "\n",
      "          0       1.00      1.00      1.00       100\n",
      "\n",
      "avg / total       1.00      1.00      1.00       100\n",
      "\n"
     ]
    }
   ],
   "source": [
    "Y = new_model.predict(data)\n",
    "print metrics.confusion_matrix(np.argmax(Y, axis=1), np.argmax(one_hot_target, axis=1))\n",
    "print metrics.classification_report(np.argmax(Y, axis=1), np.argmax(one_hot_target, axis=1))"
   ]
  },
  {
   "cell_type": "code",
   "execution_count": 32,
   "metadata": {},
   "outputs": [
    {
     "data": {
      "text/plain": [
       "Class\n",
       "Novelty    AxesSubplot(0.125,0.125;0.775x0.755)\n",
       "Name: Output, dtype: object"
      ]
     },
     "execution_count": 32,
     "metadata": {},
     "output_type": "execute_result"
    },
    {
     "data": {
      "image/png": "[encoded data removed]",
      "text/plain": [
       "<matplotlib.figure.Figure at 0x10aaca710>"
      ]
     },
     "metadata": {},
     "output_type": "display_data"
    }
   ],
   "source": [
    "df_nov.groupby('Class').Output.plot(kind='kde')"
   ]
  },
  {
   "cell_type": "code",
   "execution_count": 34,
   "metadata": {},
   "outputs": [
    {
     "data": {
      "text/plain": [
       "(-1, 1)"
      ]
     },
     "execution_count": 34,
     "metadata": {},
     "output_type": "execute_result"
    },
    {
     "data": {
      "image/png": "[encoded data removed]",
      "text/plain": [
       "<matplotlib.figure.Figure at 0x107badf50>"
      ]
     },
     "metadata": {},
     "output_type": "display_data"
    }
   ],
   "source": [
    "df_known.groupby('Class').Output.plot(kind='kde')\n",
    "plt.xlim((-1, 1))"
   ]
  },
  {
   "cell_type": "code",
   "execution_count": 31,
   "metadata": {},
   "outputs": [
    {
     "data": {
      "text/plain": [
       "Class\n",
       "Known      AxesSubplot(0.125,0.125;0.775x0.755)\n",
       "Novelty    AxesSubplot(0.125,0.125;0.775x0.755)\n",
       "Name: Output, dtype: object"
      ]
     },
     "execution_count": 31,
     "metadata": {},
     "output_type": "execute_result"
    },
    {
     "data": {
      "image/png": "[encoded data removed]",
      "text/plain": [
       "<matplotlib.figure.Figure at 0x109e5ee50>"
      ]
     },
     "metadata": {},
     "output_type": "display_data"
    }
   ],
   "source": [
    "Y = new_model.predict(nov_data)\n",
    "Y = np.max(Y, axis=1)\n",
    "\n",
    "import pandas\n",
    "df_known = pandas.DataFrame(columns=['Class','Output'])\n",
    "df_known['Output'] = np.max(new_model.predict(data), axis=1)\n",
    "df_known['Class'] = 'Known'\n",
    "df_nov = pandas.DataFrame(columns=['Class','Output'])\n",
    "df_nov['Output'] = np.max(new_model.predict(nov_data), axis=1)\n",
    "df_nov['Class'] = 'Novelty'\n",
    "df = pandas.concat((df_known, df_nov), axis=0)\n",
    "\n",
    "df.groupby('Class').Output.plot(kind='kde')"
   ]
  },
  {
   "cell_type": "code",
   "execution_count": null,
   "metadata": {},
   "outputs": [],
   "source": []
  },
  {
   "cell_type": "code",
   "execution_count": null,
   "metadata": {},
   "outputs": [],
   "source": []
  },
  {
   "cell_type": "code",
   "execution_count": null,
   "metadata": {},
   "outputs": [],
   "source": []
  },
  {
   "cell_type": "code",
   "execution_count": null,
   "metadata": {},
   "outputs": [],
   "source": []
  }
 ],
 "metadata": {
  "kernelspec": {
   "display_name": "Python 2",
   "language": "python",
   "name": "python2"
  },
  "language_info": {
   "codemirror_mode": {
    "name": "ipython",
    "version": 2
   },
   "file_extension": ".py",
   "mimetype": "text/x-python",
   "name": "python",
   "nbconvert_exporter": "python",
   "pygments_lexer": "ipython2",
   "version": "2.7.10"
  }
 },
 "nbformat": 4,
 "nbformat_minor": 2
}
