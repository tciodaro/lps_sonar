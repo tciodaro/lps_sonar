{
 "cells": [
  {
   "cell_type": "code",
   "execution_count": 1,
   "metadata": {},
   "outputs": [
    {
     "name": "stderr",
     "output_type": "stream",
     "text": [
      "Using Theano backend.\n"
     ]
    }
   ],
   "source": [
    "import numpy as np\n",
    "import time\n",
    "from sklearn.externals import joblib\n",
    "from sklearn import model_selection\n",
    "import itertools\n",
    "from sklearn import datasets\n",
    "from sklearn import preprocessing\n",
    "from sklearn import metrics\n",
    "\n",
    "\n",
    "from keras import models\n",
    "from keras import layers\n",
    "from keras import optimizers\n",
    "from keras import callbacks\n",
    "from keras import backend\n",
    "\n",
    "import matplotlib.pyplot as plt\n",
    "%matplotlib inline\n",
    "\n",
    "import sys\n",
    "sys.path.append('../')\n",
    "\n",
    "from Sonar import StackedAutoEncoderCV as SAE\n",
    "\n",
    "np.set_printoptions(3)\n",
    "\n",
    "base_filename = '../Models/iris_sae_CLASS.jbl'"
   ]
  },
  {
   "cell_type": "markdown",
   "metadata": {},
   "source": [
    "# Load Data "
   ]
  },
  {
   "cell_type": "code",
   "execution_count": 2,
   "metadata": {
    "collapsed": true
   },
   "outputs": [],
   "source": [
    "dataset = datasets.load_iris()\n",
    "data = dataset.data\n",
    "target = dataset.target\n",
    "class_names = dataset['target_names']"
   ]
  },
  {
   "cell_type": "markdown",
   "metadata": {},
   "source": [
    "# Novelty Definition "
   ]
  },
  {
   "cell_type": "code",
   "execution_count": 3,
   "metadata": {
    "collapsed": true
   },
   "outputs": [],
   "source": [
    "nov_cls = 0\n",
    "nov_data = data[target == nov_cls]\n",
    "nov_target = target[target == nov_cls]\n",
    "nov_name = class_names[nov_cls]\n",
    "# Known data\n",
    "data = data[target != nov_cls]\n",
    "target = target[target != nov_cls]\n",
    "if np.unique(target).shape[0] == 2:\n",
    "    one_hot_target = np.ones([target.shape[0],1])\n",
    "    one_hot_target[target == np.unique(target)[1], 0] = -1\n",
    "else:\n",
    "    one_hot_target = -np.ones([target.shape[0], np.unique(target).shape[0]])\n",
    "    for i, cls in enumerate(np.unique(target)):\n",
    "        one_hot_target[target == cls, i] = 1\n",
    "class_names = np.setdiff1d(class_names, [nov_name])"
   ]
  },
  {
   "cell_type": "markdown",
   "metadata": {},
   "source": [
    "# Load Models "
   ]
  },
  {
   "cell_type": "code",
   "execution_count": 4,
   "metadata": {},
   "outputs": [
    {
     "name": "stdout",
     "output_type": "stream",
     "text": [
      "Loading from  ../Models/iris_sae_versicolor.jbl\n"
     ]
    },
    {
     "name": "stderr",
     "output_type": "stream",
     "text": [
      "C:\\ProgramData\\Anaconda2\\lib\\site-packages\\keras\\models.py:252: UserWarning: No training configuration found in save file: the model was *not* compiled. Compile it manually.\n",
      "  warnings.warn('No training configuration found in save file: '\n"
     ]
    },
    {
     "name": "stdout",
     "output_type": "stream",
     "text": [
      "Loading from  ../Models/iris_sae_virginica.jbl\n"
     ]
    }
   ],
   "source": [
    "autoencoders = {}\n",
    "encoders = {}\n",
    "for cls in class_names:\n",
    "    sae = SAE.StackedAutoEncoderCV()\n",
    "    sae.load(base_filename.replace('CLASS', cls))\n",
    "    autoencoders[cls] = sae.network\n",
    "    encoders[cls] = sae.network.get_encoder()"
   ]
  },
  {
   "cell_type": "markdown",
   "metadata": {},
   "source": [
    "# Add Output Classification Layer "
   ]
  },
  {
   "cell_type": "code",
   "execution_count": 6,
   "metadata": {
    "collapsed": true
   },
   "outputs": [],
   "source": [
    "common_input = layers.Input(shape = [data.shape[1]])\n",
    "graphs = []\n",
    "for cls in encoders.keys():\n",
    "    gr = common_input\n",
    "    for lay in encoders[cls].layers:\n",
    "        lay.name = 'class_'+ cls + lay.name\n",
    "        lay.trainable = False\n",
    "        gr = lay(gr)\n",
    "    graphs.append(gr)\n",
    "merge_layer = layers.concatenate(graphs, axis=1)\n",
    "hidden_layer = layers.Dense(10, activation='tanh')(merge_layer)\n",
    "out_layer = layers.Dense(one_hot_target.shape[1], activation='tanh')(hidden_layer)\n",
    "new_model = models.Model(inputs=[common_input], outputs=out_layer)\n",
    "opt = optimizers.Adam(lr=0.01, beta_1=0.9, beta_2=0.999, epsilon=1e-08)\n",
    "new_model.compile(loss='mean_squared_error', optimizer=opt)\n",
    "\n",
    "trn_desc = new_model.fit(data, one_hot_target, \n",
    "                         epochs = 200, \n",
    "                         batch_size = 100,\n",
    "                         verbose = False,\n",
    "                         shuffle=False)"
   ]
  },
  {
   "cell_type": "code",
   "execution_count": 7,
   "metadata": {},
   "outputs": [
    {
     "name": "stdout",
     "output_type": "stream",
     "text": [
      "0.96\n",
      "0.92\n",
      "0.94\n"
     ]
    }
   ],
   "source": [
    "Y = new_model.predict(data)\n",
    "Y = Y > 0\n",
    "T = one_hot_target > 0\n",
    "print metrics.accuracy_score(Y[T],T[T])\n",
    "print metrics.accuracy_score(Y[~T],T[~T])\n",
    "print metrics.accuracy_score(Y,T)"
   ]
  },
  {
   "cell_type": "code",
   "execution_count": 29,
   "metadata": {},
   "outputs": [
    {
     "name": "stdout",
     "output_type": "stream",
     "text": [
      "0.0371959368318\n",
      "0.365394208782\n",
      "1.79865124692\n"
     ]
    }
   ],
   "source": [
    "clsname = 'versicolor'\n",
    "print metrics.mean_squared_error(autoencoders[clsname].predict(data[target == 1]), data[target == 1])\n",
    "print metrics.mean_squared_error(autoencoders[clsname].predict(data[target == 2]), data[target == 2])\n",
    "print metrics.mean_squared_error(autoencoders[clsname].predict(nov_data), nov_data)"
   ]
  },
  {
   "cell_type": "code",
   "execution_count": 13,
   "metadata": {},
   "outputs": [
    {
     "name": "stdout",
     "output_type": "stream",
     "text": [
      "0.356742143723\n",
      "0.0507086021637\n",
      "4.08524442809\n"
     ]
    }
   ],
   "source": [
    "clsname = 'virginica'\n",
    "print metrics.mean_squared_error(autoencoders[clsname].predict(data[target == 1]), data[target == 1])\n",
    "print metrics.mean_squared_error(autoencoders[clsname].predict(data[target == 2]), data[target == 2])\n",
    "print metrics.mean_squared_error(autoencoders[clsname].predict(nov_data), nov_data)"
   ]
  },
  {
   "cell_type": "code",
   "execution_count": 30,
   "metadata": {},
   "outputs": [
    {
     "data": {
      "text/plain": [
       "[<matplotlib.lines.Line2D at 0x12348390>]"
      ]
     },
     "execution_count": 30,
     "metadata": {},
     "output_type": "execute_result"
    },
    {
     "data": {
      "image/png": "[encoded data removed]",
      "text/plain": [
       "<matplotlib.figure.Figure at 0x11a5fba8>"
      ]
     },
     "metadata": {},
     "output_type": "display_data"
    }
   ],
   "source": [
    "plt.plot(trn_desc.epoch, trn_desc.history['loss'], '-')"
   ]
  },
  {
   "cell_type": "code",
   "execution_count": 24,
   "metadata": {},
   "outputs": [
    {
     "name": "stdout",
     "output_type": "stream",
     "text": [
      "[[46  2]\n",
      " [ 4 48]]\n",
      "             precision    recall  f1-score   support\n",
      "\n",
      "      False       0.92      0.96      0.94        48\n",
      "       True       0.96      0.92      0.94        52\n",
      "\n",
      "avg / total       0.94      0.94      0.94       100\n",
      "\n"
     ]
    }
   ],
   "source": [
    "Y = new_model.predict(data)\n",
    "print metrics.confusion_matrix(Y > 0, one_hot_target > 0)\n",
    "print metrics.classification_report(Y > 0, one_hot_target > 0)"
   ]
  },
  {
   "cell_type": "code",
   "execution_count": 17,
   "metadata": {},
   "outputs": [
    {
     "data": {
      "text/plain": [
       "Class\n",
       "Known      Axes(0.125,0.125;0.775x0.755)\n",
       "Novelty    Axes(0.125,0.125;0.775x0.755)\n",
       "Name: Output, dtype: object"
      ]
     },
     "execution_count": 17,
     "metadata": {},
     "output_type": "execute_result"
    },
    {
     "data": {
      "image/png": "[encoded data removed]",
      "text/plain": [
       "<matplotlib.figure.Figure at 0x112780b8>"
      ]
     },
     "metadata": {},
     "output_type": "display_data"
    }
   ],
   "source": [
    "Y = new_model.predict(nov_data)\n",
    "Y = np.max(Y, axis=1)\n",
    "\n",
    "import pandas\n",
    "df_known = pandas.DataFrame(columns=['Class','Output'])\n",
    "df_known['Output'] = np.max(new_model.predict(data), axis=1)\n",
    "df_known['Class'] = 'Known'\n",
    "df_nov = pandas.DataFrame(columns=['Class','Output'])\n",
    "df_nov['Output'] = np.max(new_model.predict(nov_data), axis=1)\n",
    "df_nov['Class'] = 'Novelty'\n",
    "df = pandas.concat((df_known, df_nov), axis=0)\n",
    "\n",
    "df.groupby('Class').Output.plot(kind='kde')"
   ]
  },
  {
   "cell_type": "code",
   "execution_count": 18,
   "metadata": {},
   "outputs": [
    {
     "data": {
      "text/plain": [
       "Class\n",
       "Novelty    Axes(0.125,0.125;0.775x0.755)\n",
       "Name: Output, dtype: object"
      ]
     },
     "execution_count": 18,
     "metadata": {},
     "output_type": "execute_result"
    },
    {
     "data": {
      "image/png": "[encoded data removed]",
      "text/plain": [
       "<matplotlib.figure.Figure at 0xe6c9080>"
      ]
     },
     "metadata": {},
     "output_type": "display_data"
    }
   ],
   "source": [
    "df_nov.groupby('Class').Output.plot(kind='kde')"
   ]
  },
  {
   "cell_type": "code",
   "execution_count": 19,
   "metadata": {},
   "outputs": [
    {
     "data": {
      "text/plain": [
       "(-1, 1)"
      ]
     },
     "execution_count": 19,
     "metadata": {},
     "output_type": "execute_result"
    },
    {
     "data": {
      "image/png": "[encoded data removed]",
      "text/plain": [
       "<matplotlib.figure.Figure at 0x117d8c50>"
      ]
     },
     "metadata": {},
     "output_type": "display_data"
    }
   ],
   "source": [
    "df_known.groupby('Class').Output.plot(kind='kde')\n",
    "plt.xlim((-1, 1))"
   ]
  },
  {
   "cell_type": "markdown",
   "metadata": {},
   "source": [
    "# Test With Classifier Class "
   ]
  },
  {
   "cell_type": "code",
   "execution_count": 5,
   "metadata": {},
   "outputs": [
    {
     "name": "stdout",
     "output_type": "stream",
     "text": [
      "['loss']\n",
      "Final Classification Accuracy (training)  : 2.166e-01\n",
      "Training took 1 s\n"
     ]
    }
   ],
   "source": [
    "from Sonar import StackedAutoEncoderClassifier as SAEC\n",
    "\n",
    "\n",
    "netclf = SAEC.StackedAutoEncoderClassifier(hidden = 10, optimizer = 'adam', nepochs = 200,\n",
    "                                           batch_size=100, ninit = 1, verbose=True)\n",
    "netclf.set_encoders(encoders)\n",
    "netclf.fit(data, one_hot_target)\n"
   ]
  },
  {
   "cell_type": "code",
   "execution_count": 9,
   "metadata": {},
   "outputs": [
    {
     "data": {
      "text/plain": [
       "[<matplotlib.lines.Line2D at 0xe61d470>]"
      ]
     },
     "execution_count": 9,
     "metadata": {},
     "output_type": "execute_result"
    },
    {
     "data": {
      "image/png": "[encoded data removed]",
      "text/plain": [
       "<matplotlib.figure.Figure at 0xd0ea898>"
      ]
     },
     "metadata": {},
     "output_type": "display_data"
    }
   ],
   "source": [
    "plt.plot(netclf.trn_info['epochs'], netclf.trn_info['loss'], '-')"
   ]
  },
  {
   "cell_type": "code",
   "execution_count": 10,
   "metadata": {},
   "outputs": [
    {
     "name": "stdout",
     "output_type": "stream",
     "text": [
      "[[46  2]\n",
      " [ 4 48]]\n",
      "             precision    recall  f1-score   support\n",
      "\n",
      "      False       0.92      0.96      0.94        48\n",
      "       True       0.96      0.92      0.94        52\n",
      "\n",
      "avg / total       0.94      0.94      0.94       100\n",
      "\n"
     ]
    }
   ],
   "source": [
    "Y = netclf.predict(data)\n",
    "print metrics.confusion_matrix(Y > 0, one_hot_target > 0)\n",
    "print metrics.classification_report(Y > 0, one_hot_target > 0)"
   ]
  },
  {
   "cell_type": "code",
   "execution_count": 6,
   "metadata": {},
   "outputs": [
    {
     "data": {
      "text/plain": [
       "'../Models/test_network_h10'"
      ]
     },
     "execution_count": 6,
     "metadata": {},
     "output_type": "execute_result"
    }
   ],
   "source": [
    "netclf.label = 'h10'\n",
    "netclf.save('../Models/test_network')"
   ]
  },
  {
   "cell_type": "code",
   "execution_count": 8,
   "metadata": {},
   "outputs": [
    {
     "name": "stdout",
     "output_type": "stream",
     "text": [
      "[[46  2]\n",
      " [ 4 48]]\n",
      "             precision    recall  f1-score   support\n",
      "\n",
      "      False       0.92      0.96      0.94        48\n",
      "       True       0.96      0.92      0.94        52\n",
      "\n",
      "avg / total       0.94      0.94      0.94       100\n",
      "\n"
     ]
    }
   ],
   "source": [
    "nnet = SAEC.StackedAutoEncoderClassifier()\n",
    "nnet.load('../Models/test_network_h10')\n",
    "Y = netclf.predict(data)\n",
    "print metrics.confusion_matrix(Y > 0, one_hot_target > 0)\n",
    "print metrics.classification_report(Y > 0, one_hot_target > 0)"
   ]
  },
  {
   "cell_type": "code",
   "execution_count": null,
   "metadata": {
    "collapsed": true
   },
   "outputs": [],
   "source": []
  }
 ],
 "metadata": {
  "kernelspec": {
   "display_name": "Python 2",
   "language": "python",
   "name": "python2"
  },
  "language_info": {
   "codemirror_mode": {
    "name": "ipython",
    "version": 2
   },
   "file_extension": ".py",
   "mimetype": "text/x-python",
   "name": "python",
   "nbconvert_exporter": "python",
   "pygments_lexer": "ipython2",
   "version": "2.7.13"
  }
 },
 "nbformat": 4,
 "nbformat_minor": 2
}
