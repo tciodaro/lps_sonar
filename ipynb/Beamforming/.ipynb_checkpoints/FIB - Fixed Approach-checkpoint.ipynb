{
 "cells": [
  {
   "cell_type": "code",
   "execution_count": 1,
   "metadata": {
    "collapsed": false
   },
   "outputs": [
    {
     "name": "stderr",
     "output_type": "stream",
     "text": [
      "/home/xavier/.virtualenvs/sonar/local/lib/python2.7/site-packages/matplotlib/__init__.py:1039: UserWarning: Bad val \"pyside\" on line #38\n",
      "\t\"backend      : pyside\n",
      "\"\n",
      "\tin file \"/home/xavier/.virtualenvs/sonar/local/lib/python2.7/site-packages/matplotlib/mpl-data/matplotlibrc\"\n",
      "\tKey backend: Unrecognized backend string \"pyside\": valid strings are [u'pgf', u'cairo', u'MacOSX', u'CocoaAgg', u'gdk', u'ps', u'GTKAgg', u'nbAgg', u'GTK', u'Qt5Agg', u'template', u'emf', u'GTK3Cairo', u'GTK3Agg', u'WX', u'Qt4Agg', u'TkAgg', u'agg', u'svg', u'GTKCairo', u'WXAgg', u'WebAgg', u'pdf']\n",
      "  (val, error_details, msg))\n"
     ]
    }
   ],
   "source": [
    "%matplotlib inline\n",
    "\n",
    "import matplotlib.pyplot as plt\n",
    "import matplotlib as mpl\n",
    "import numpy as np\n",
    "from scipy import signal\n",
    "\n",
    "mpl.style.use('bmh')"
   ]
  },
  {
   "cell_type": "markdown",
   "metadata": {},
   "source": [
    "# Sonar Linear Array"
   ]
  },
  {
   "cell_type": "markdown",
   "metadata": {},
   "source": [
    "## Beampattern"
   ]
  },
  {
   "cell_type": "code",
   "execution_count": 2,
   "metadata": {
    "collapsed": true
   },
   "outputs": [],
   "source": [
    "array_angles = np.arange(-90, 91, 1) # in degrees\n",
    "sound_speed = 1482.0 # meter per second\n",
    "nsensors = 20\n",
    "Lsensor = 2.14 # in meters\n",
    "beampattern = np.zeros(array_angles.shape[0])\n"
   ]
  },
  {
   "cell_type": "code",
   "execution_count": 33,
   "metadata": {
    "collapsed": true
   },
   "outputs": [],
   "source": [
    "Fs = 16000\n",
    "Ts = 1.0/Fs\n",
    "freq_range = np.arange(100, 3200, 100)\n",
    "freq_ref = 1700\n",
    "angles_steering = np.arange(0, 180, 1)\n",
    "angles_mainlobe = np.arange(80,110,1)\n",
    "angles_sidelobe = np.setdiff1d(angles_mainlobe, angles_steering)\n",
    "\n",
    "M = nsensors # number of sensors\n",
    "J = 300 # number of taps for each FIR\n",
    "\n",
    "a = 0.01 # Side lobe gain\n",
    "b = 0.95 # frequency invariant 'strength'\n",
    "\n",
    "W = np.zeros((M*J, 1))\n",
    "j = complex(0,1) # complex variable\n",
    "\n",
    "\n",
    "# Build Q matrix\n",
    "Q = np.zeros((M*J, M*J))\n",
    "A = np.zeros(M*J)\n",
    "\n",
    "# Build A vector\n",
    "Staps = np.array([np.exp(-2*j*np.pi*freq_ref*Ts*itap) for itap in range(J)])\n",
    "for thetaMainLobe in angles_mainlobe:    \n",
    "    Ssteer = np.array([np.exp(-2*j*np.pi*freq_ref*m*Lsensor/sound_speed*np.cos(thetaMainLobe)) for m in range(M)])\n",
    "    A = A + np.kron(Staps, Ssteer)\n",
    "A = np.array([A]).T\n",
    "\n",
    "# Build Q Matrix\n",
    "# Adjust the gain for the mainlobe\n",
    "for thetaMainLobe in angles_mainlobe:\n",
    "    Ssteer = np.array([np.exp(-2*j*np.pi*freq_ref*m*Lsensor/sound_speed*np.cos(thetaMainLobe)) for m in range(M)])\n",
    "    S = np.array([np.kron(Staps, Ssteer)]).T\n",
    "    S = S.dot(np.conjugate(S).T)\n",
    "    Q = Q + S\n",
    "# Adjust the gain for the sidelobe\n",
    "for thetaSideLobe in angles_sidelobe:\n",
    "    Ssteer = np.array([np.exp(-2*j*np.pi*freq_ref*m*Lsensor/sound_speed*np.cos(thetaSideLobe)) for m in range(M)])\n",
    "    S = np.array([np.kron(Staps, Ssteer)]).T\n",
    "    S = S.dot(np.conjugate(S).T)\n",
    "    Q = Q + a*S\n",
    "# Adjust the invariant response in frequency and angles\n",
    "for freq in freq_range:\n",
    "    Staps = np.array([np.exp(-2*j*np.pi*freq*Ts*itap) for itap in range(J)])\n",
    "    for theta in angles_steering:\n",
    "        Ssteer = np.array([np.exp(-2*j*np.pi*freq*m*Lsensor/sound_speed*np.cos(theta)) for m in range(M)]) \\\n",
    "                 - \\\n",
    "                 np.array([np.exp(-2*j*np.pi*freq_ref*m*Lsensor/sound_speed*np.cos(theta)) for m in range(M)])\n",
    "        \n",
    "        S = np.array([np.kron(Staps, Ssteer)]).T\n",
    "        S = S.dot(np.conjugate(S).T)\n",
    "        Q = Q + a*S\n"
   ]
  },
  {
   "cell_type": "code",
   "execution_count": 34,
   "metadata": {
    "collapsed": false
   },
   "outputs": [
    {
     "data": {
      "text/plain": [
       "(6000, 6000)"
      ]
     },
     "execution_count": 34,
     "metadata": {},
     "output_type": "execute_result"
    }
   ],
   "source": [
    "S.shape"
   ]
  },
  {
   "cell_type": "code",
   "execution_count": null,
   "metadata": {
    "collapsed": true
   },
   "outputs": [],
   "source": []
  },
  {
   "cell_type": "code",
   "execution_count": null,
   "metadata": {
    "collapsed": true
   },
   "outputs": [],
   "source": []
  }
 ],
 "metadata": {
  "kernelspec": {
   "display_name": "Python 2",
   "language": "python",
   "name": "python2"
  },
  "language_info": {
   "codemirror_mode": {
    "name": "ipython",
    "version": 2
   },
   "file_extension": ".py",
   "mimetype": "text/x-python",
   "name": "python",
   "nbconvert_exporter": "python",
   "pygments_lexer": "ipython2",
   "version": "2.7.3"
  }
 },
 "nbformat": 4,
 "nbformat_minor": 0
}
